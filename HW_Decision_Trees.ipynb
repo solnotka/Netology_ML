{
 "cells": [
  {
   "cell_type": "markdown",
   "id": "84bab64e",
   "metadata": {},
   "source": [
    "Для выполнения домашнего задания необходимо взять файл boston house-prices datase (sklearn.datasets.load_boston) и построить модель.\n",
    "По аналогии задания к лекции «Классификация: Логистическая регрессия и SVM».\n",
    "А именно построить модель регрессии, дерево решений, оптимизировать параметры и сравнить результаты."
   ]
  },
  {
   "cell_type": "code",
   "execution_count": 1,
   "id": "b82695a3",
   "metadata": {},
   "outputs": [],
   "source": [
    "from sklearn import tree\n",
    "from sklearn.datasets import load_boston\n",
    "from sklearn.metrics import mean_absolute_error\n",
    "from sklearn.metrics import mean_squared_error\n",
    "from sklearn.model_selection import train_test_split\n",
    "from sklearn.preprocessing import StandardScaler\n",
    "from sklearn.tree import DecisionTreeRegressor\n",
    "\n",
    "import graphviz\n",
    "import matplotlib.pyplot as plt\n",
    "import numpy as np\n",
    "import pandas as pd\n",
    "import seaborn as sns\n",
    "\n",
    "import warnings\n",
    "warnings.filterwarnings(\"ignore\")"
   ]
  },
  {
   "cell_type": "code",
   "execution_count": 2,
   "id": "afc137f0",
   "metadata": {},
   "outputs": [
    {
     "data": {
      "text/html": [
       "<div>\n",
       "<style scoped>\n",
       "    .dataframe tbody tr th:only-of-type {\n",
       "        vertical-align: middle;\n",
       "    }\n",
       "\n",
       "    .dataframe tbody tr th {\n",
       "        vertical-align: top;\n",
       "    }\n",
       "\n",
       "    .dataframe thead th {\n",
       "        text-align: right;\n",
       "    }\n",
       "</style>\n",
       "<table border=\"1\" class=\"dataframe\">\n",
       "  <thead>\n",
       "    <tr style=\"text-align: right;\">\n",
       "      <th></th>\n",
       "      <th>CRIM</th>\n",
       "      <th>ZN</th>\n",
       "      <th>INDUS</th>\n",
       "      <th>CHAS</th>\n",
       "      <th>NOX</th>\n",
       "      <th>RM</th>\n",
       "      <th>AGE</th>\n",
       "      <th>DIS</th>\n",
       "      <th>RAD</th>\n",
       "      <th>TAX</th>\n",
       "      <th>PTRATIO</th>\n",
       "      <th>B</th>\n",
       "      <th>LSTAT</th>\n",
       "      <th>MEDV</th>\n",
       "    </tr>\n",
       "  </thead>\n",
       "  <tbody>\n",
       "    <tr>\n",
       "      <th>0</th>\n",
       "      <td>0.00632</td>\n",
       "      <td>18.0</td>\n",
       "      <td>2.31</td>\n",
       "      <td>0</td>\n",
       "      <td>0.538</td>\n",
       "      <td>6.575</td>\n",
       "      <td>65.2</td>\n",
       "      <td>4.0900</td>\n",
       "      <td>1</td>\n",
       "      <td>296</td>\n",
       "      <td>15.3</td>\n",
       "      <td>396.90</td>\n",
       "      <td>4.98</td>\n",
       "      <td>24.0</td>\n",
       "    </tr>\n",
       "    <tr>\n",
       "      <th>1</th>\n",
       "      <td>0.02731</td>\n",
       "      <td>0.0</td>\n",
       "      <td>7.07</td>\n",
       "      <td>0</td>\n",
       "      <td>0.469</td>\n",
       "      <td>6.421</td>\n",
       "      <td>78.9</td>\n",
       "      <td>4.9671</td>\n",
       "      <td>2</td>\n",
       "      <td>242</td>\n",
       "      <td>17.8</td>\n",
       "      <td>396.90</td>\n",
       "      <td>9.14</td>\n",
       "      <td>21.6</td>\n",
       "    </tr>\n",
       "    <tr>\n",
       "      <th>2</th>\n",
       "      <td>0.02729</td>\n",
       "      <td>0.0</td>\n",
       "      <td>7.07</td>\n",
       "      <td>0</td>\n",
       "      <td>0.469</td>\n",
       "      <td>7.185</td>\n",
       "      <td>61.1</td>\n",
       "      <td>4.9671</td>\n",
       "      <td>2</td>\n",
       "      <td>242</td>\n",
       "      <td>17.8</td>\n",
       "      <td>392.83</td>\n",
       "      <td>4.03</td>\n",
       "      <td>34.7</td>\n",
       "    </tr>\n",
       "    <tr>\n",
       "      <th>3</th>\n",
       "      <td>0.03237</td>\n",
       "      <td>0.0</td>\n",
       "      <td>2.18</td>\n",
       "      <td>0</td>\n",
       "      <td>0.458</td>\n",
       "      <td>6.998</td>\n",
       "      <td>45.8</td>\n",
       "      <td>6.0622</td>\n",
       "      <td>3</td>\n",
       "      <td>222</td>\n",
       "      <td>18.7</td>\n",
       "      <td>394.63</td>\n",
       "      <td>2.94</td>\n",
       "      <td>33.4</td>\n",
       "    </tr>\n",
       "    <tr>\n",
       "      <th>4</th>\n",
       "      <td>0.06905</td>\n",
       "      <td>0.0</td>\n",
       "      <td>2.18</td>\n",
       "      <td>0</td>\n",
       "      <td>0.458</td>\n",
       "      <td>7.147</td>\n",
       "      <td>54.2</td>\n",
       "      <td>6.0622</td>\n",
       "      <td>3</td>\n",
       "      <td>222</td>\n",
       "      <td>18.7</td>\n",
       "      <td>396.90</td>\n",
       "      <td>5.33</td>\n",
       "      <td>36.2</td>\n",
       "    </tr>\n",
       "  </tbody>\n",
       "</table>\n",
       "</div>"
      ],
      "text/plain": [
       "      CRIM    ZN  INDUS  CHAS    NOX     RM   AGE     DIS  RAD  TAX  PTRATIO  \\\n",
       "0  0.00632  18.0   2.31     0  0.538  6.575  65.2  4.0900    1  296     15.3   \n",
       "1  0.02731   0.0   7.07     0  0.469  6.421  78.9  4.9671    2  242     17.8   \n",
       "2  0.02729   0.0   7.07     0  0.469  7.185  61.1  4.9671    2  242     17.8   \n",
       "3  0.03237   0.0   2.18     0  0.458  6.998  45.8  6.0622    3  222     18.7   \n",
       "4  0.06905   0.0   2.18     0  0.458  7.147  54.2  6.0622    3  222     18.7   \n",
       "\n",
       "        B  LSTAT  MEDV  \n",
       "0  396.90   4.98  24.0  \n",
       "1  396.90   9.14  21.6  \n",
       "2  392.83   4.03  34.7  \n",
       "3  394.63   2.94  33.4  \n",
       "4  396.90   5.33  36.2  "
      ]
     },
     "execution_count": 2,
     "metadata": {},
     "output_type": "execute_result"
    }
   ],
   "source": [
    "data = pd.read_csv(load_boston()['filename'], skiprows=1)\n",
    "data.head()"
   ]
  },
  {
   "cell_type": "markdown",
   "id": "650ee26d",
   "metadata": {},
   "source": [
    "У меня остался от прошлого задания готовый набор новых признаков для load_boston. Проводить обучение буду на этом наборе, по возможности постараюсь его сократить."
   ]
  },
  {
   "cell_type": "code",
   "execution_count": 3,
   "id": "6c452746",
   "metadata": {},
   "outputs": [],
   "source": [
    "def best_dataset(data=pd.read_csv(load_boston()['filename'], skiprows=1)):\n",
    "    columns = list(load_boston()['feature_names'])\n",
    "    the_data = data[ (data['CRIM'] < 17) ]\n",
    "    \n",
    "    for col in ['RM', 'LSTAT', 'ZN', 'INDUS', 'PTRATIO', 'NOX', 'RAD', 'AGE', 'TAX']:\n",
    "        the_data[col + '2'] = the_data[col] ** 2\n",
    "        columns.append(col + '2')\n",
    "    \n",
    "    for col in ['RAD', 'INDUS', 'PTRATIO', 'NOX']:\n",
    "        the_data [col + '3'] = the_data[col] ** 3\n",
    "        columns.append(col + '3')\n",
    "        \n",
    "    for i in range(4, 7):\n",
    "        the_data['PTRATIO' + str(i)] = the_data.PTRATIO ** i\n",
    "        columns.append('PTRATIO' + str(i))\n",
    "    \n",
    "    the_data['NOX_INDUS'] = the_data['INDUS'] / (the_data['NOX'] ** 7)\n",
    "    the_data['B_LSTAT'] = 1 / the_data['B'] / the_data['LSTAT']\n",
    "    the_data['CRIM_RM'] = 1 / the_data['CRIM'] / the_data['RM']\n",
    "    the_data['CRIM_AGE'] = the_data['AGE'] / the_data['CRIM']\n",
    "    the_data['CRIM_PTRATIO'] = (the_data['PTRATIO'] ** 8) * the_data['CRIM']\n",
    "    the_data['CHAS_INDUS'] = the_data['CHAS'] * (the_data['INDUS3'] ** 3)\n",
    "    the_data['CHAS_NOX'] = the_data['CHAS'] * (the_data['NOX2'] ** 22)\n",
    "    the_data['CHAS_AGE'] = the_data['CHAS'] * (the_data['AGE'] ** 5)\n",
    "    the_data['CHAS_LSTAT'] = the_data['CHAS'] * the_data['LSTAT']\n",
    "    the_data['LSTAT_AGE'] = the_data['LSTAT'] * (the_data['AGE'] ** 2)\n",
    "    the_data['LSTAT_INDUS'] = the_data['LSTAT'] * (the_data['INDUS'] ** 3)\n",
    "    the_data['LSTAT_NOX'] = 1 / the_data['LSTAT'] / the_data['NOX']\n",
    "    the_data['LSTAT_RM'] = 1 / the_data['LSTAT'] / the_data['RM']\n",
    "    the_data['LSTAT_DIS'] = (the_data['DIS'] ** 2) / the_data['LSTAT']\n",
    "    the_data['LSTAT_RAD'] = the_data['RAD'] / the_data['LSTAT']\n",
    "    the_data['LSTAT_PTRATIO'] = the_data['PTRATIO6'] * the_data['LSTAT']\n",
    "    the_data['RM_ZN'] = the_data['ZN'] / the_data['RM']\n",
    "    the_data['RM_INDUS'] = (the_data['INDUS'] ** 2) / the_data['RM']\n",
    "    the_data['INDUS_TAX'] = the_data['INDUS'] / the_data['TAX']\n",
    "    the_data['INDUS_PTRATIO'] = the_data['INDUS'] / the_data['PTRATIO']\n",
    "    the_data['ZN_TAX'] = the_data['ZN'] * the_data['TAX']\n",
    "    the_data['ZN_PTRATIO'] = the_data['ZN'] / (the_data['PTRATIO'] ** 2)\n",
    "    the_data['ZN_B'] = (the_data['ZN'] ** 2) / (the_data['B'] ** 2)\n",
    "    the_data['AGE_DIS'] = the_data['DIS'] * (the_data['AGE'] ** 5)\n",
    "    the_data['AGE_RAD'] = the_data['AGE'] * (the_data['RAD'] ** 3)\n",
    "    the_data['DIS_B'] = (the_data['DIS'] ** 3) / the_data['B']\n",
    "    the_data['RAD_TAX'] = the_data['TAX'] * (the_data['RAD'] ** 2)\n",
    "    the_data['RAD_B'] = (the_data['B'] ** 4) / the_data['RAD']\n",
    "    the_data['CRIM_B_LSTAT'] = 1 / the_data['CRIM'] / the_data['B'] / (the_data['LSTAT'] ** 2)\n",
    "    \n",
    "    columns.extend(['NOX_INDUS', 'B_LSTAT', 'CRIM_RM', 'CRIM_AGE', 'CRIM_PTRATIO', 'CHAS_INDUS', 'CHAS_NOX','CHAS_AGE', \n",
    "                    'CHAS_LSTAT', 'LSTAT_AGE', 'LSTAT_INDUS', 'LSTAT_NOX', 'LSTAT_RM', 'LSTAT_DIS', 'LSTAT_RAD', \n",
    "                    'LSTAT_PTRATIO', 'RM_ZN', 'RM_INDUS', 'INDUS_TAX', 'INDUS_PTRATIO', 'ZN_TAX', 'ZN_PTRATIO', 'ZN_B', \n",
    "                    'AGE_DIS', 'AGE_RAD', 'DIS_B', 'RAD_TAX', 'RAD_B', 'CRIM_B_LSTAT'])\n",
    "    \n",
    "    return the_data, columns"
   ]
  },
  {
   "cell_type": "markdown",
   "id": "29b29507",
   "metadata": {},
   "source": [
    "Функция для обучения моделей и вывода результатов"
   ]
  },
  {
   "cell_type": "code",
   "execution_count": 9,
   "id": "63b92a6b",
   "metadata": {},
   "outputs": [],
   "source": [
    "def training(X, y, columns=load_boston()['feature_names'], criterion='mse', max_depth=None, min_samples_split=2, min_samples_leaf=1, errors=True, viz=True):\n",
    "    X_train, X_test, y_train, y_test = train_test_split(X, y, test_size=0.3, random_state=42)\n",
    "    reg = DecisionTreeRegressor(\n",
    "        criterion=criterion,\n",
    "        max_depth=max_depth,\n",
    "        min_samples_split=min_samples_split,\n",
    "        min_samples_leaf= min_samples_leaf\n",
    "    )\n",
    "    model = reg.fit(X_train, y_train)\n",
    "    model_2 = reg.fit(X, y)\n",
    "    predicted_0 = model.predict(X_train)\n",
    "    predicted = model.predict(X_test)\n",
    "    predicted_2 = model.predict(X)\n",
    "    \n",
    "    #Создаю словарь, где хранится важность признаков для модели\n",
    "    features_importance = dict(zip(columns, model.feature_importances_))\n",
    "    \n",
    "    #MSE для разных выборок\n",
    "    learning_error = mean_squared_error(predicted_0, y_train)\n",
    "    generalization_error = mean_squared_error(predicted, y_test)\n",
    "    Error = mean_squared_error(predicted_2, y)\n",
    "    \n",
    "    #Мне нужен критерий ошибки, который я могу использовать в пороговых значениях. Поскольку модель склонна к переобучению,\n",
    "    #нужно исключить ситуации, когда learning error = 0 и нежелательна ситуация, когда learning error < generalization error.\n",
    "    #В таких случаях я максимизирую ошибку, иначе она равна ошибке на тестовой выборке.\n",
    "    if learning_error > generalization_error and learning_error > .01:\n",
    "        criterium = generalization_error\n",
    "    else:\n",
    "        criterium = 100\n",
    "    \n",
    "    #Нужна возможность более подробно вывести ошибки на разных выборках\n",
    "    if errors:\n",
    "        print(f'learning error: {learning_error}')\n",
    "        print(f'generalization error: {generalization_error}')\n",
    "        print(f'Error: {Error}')\n",
    "    \n",
    "    #Эта опция включается, если надо посмотреть, какие признаки больше всего влияют на результат\n",
    "    if viz:\n",
    "        plt.figure(figsize=(7, 15))\n",
    "        plt.barh(np.arange(len(model.feature_importances_)), model.feature_importances_)\n",
    "        plt.yticks(np.arange(len(X_train.columns)),X_train.columns)\n",
    "    \n",
    "    #На выходе получаю признаки, которые оказали какое-либо влияние на результат, и ошибку.\n",
    "    return list(filter(lambda x: features_importance[x] > 0.001, features_importance)), criterium"
   ]
  },
  {
   "cell_type": "code",
   "execution_count": 10,
   "id": "57015c5d",
   "metadata": {},
   "outputs": [
    {
     "name": "stdout",
     "output_type": "stream",
     "text": [
      "learning error: 0.0\n",
      "generalization error: 0.0\n",
      "Error: 0.0\n"
     ]
    },
    {
     "data": {
      "text/plain": [
       "(['CRIM', 'INDUS', 'NOX', 'RM', 'AGE', 'DIS', 'TAX', 'PTRATIO', 'B', 'LSTAT'],\n",
       " 100)"
      ]
     },
     "execution_count": 10,
     "metadata": {},
     "output_type": "execute_result"
    },
    {
     "data": {
      "image/png": "[encoded data removed]",
      "text/plain": [
       "<Figure size 504x1080 with 1 Axes>"
      ]
     },
     "metadata": {
      "needs_background": "light"
     },
     "output_type": "display_data"
    }
   ],
   "source": [
    "#Тестирую функцию на исходной выборке. Модель явно переобучилась.\n",
    "columns = load_boston()['feature_names']\n",
    "X = data[columns]\n",
    "y = data['MEDV']\n",
    "\n",
    "training(X, y)"
   ]
  },
  {
   "cell_type": "code",
   "execution_count": 11,
   "id": "563823a5",
   "metadata": {},
   "outputs": [
    {
     "name": "stdout",
     "output_type": "stream",
     "text": [
      "criterion=mse, max_depth=9, min_samples_split=2, min_samples_leaf=1\n",
      "['RM', 'AGE', 'DIS', 'TAX', 'B', 'LSTAT', 'RM2', 'LSTAT2', 'PTRATIO2', 'NOX2', 'RAD2', 'TAX2', 'NOX_INDUS', 'CRIM_RM', 'CRIM_AGE', 'LSTAT_AGE', 'LSTAT_INDUS', 'LSTAT_NOX', 'LSTAT_DIS', 'LSTAT_RAD', 'LSTAT_PTRATIO', 'INDUS_TAX', 'ZN_PTRATIO', 'AGE_DIS', 'AGE_RAD', 'DIS_B', 'RAD_B', 'CRIM_B_LSTAT']\n",
      "1.156800038795338\n",
      "\n",
      "criterion=mse, max_depth=9, min_samples_split=3, min_samples_leaf=1\n",
      "['RM', 'TAX', 'B', 'RM2', 'LSTAT2', 'INDUS2', 'NOX2', 'AGE2', 'TAX2', 'NOX_INDUS', 'CRIM_RM', 'CRIM_AGE', 'CHAS_LSTAT', 'LSTAT_NOX', 'LSTAT_DIS', 'LSTAT_RAD', 'LSTAT_PTRATIO', 'RM_INDUS', 'INDUS_TAX', 'ZN_PTRATIO', 'AGE_DIS', 'AGE_RAD', 'DIS_B', 'RAD_B', 'CRIM_B_LSTAT']\n",
      "1.3544896939677509\n",
      "\n",
      "criterion=mae, max_depth=9, min_samples_split=2, min_samples_leaf=1\n",
      "['CHAS', 'NOX', 'RM', 'AGE', 'DIS', 'TAX', 'B', 'LSTAT', 'RM2', 'LSTAT2', 'INDUS2', 'NOX2', 'AGE2', 'TAX2', 'INDUS3', 'NOX3', 'PTRATIO4', 'NOX_INDUS', 'B_LSTAT', 'CRIM_RM', 'CRIM_AGE', 'CRIM_PTRATIO', 'CHAS_INDUS', 'CHAS_NOX', 'CHAS_AGE', 'LSTAT_AGE', 'LSTAT_INDUS', 'LSTAT_NOX', 'LSTAT_RM', 'LSTAT_DIS', 'LSTAT_RAD', 'LSTAT_PTRATIO', 'RM_INDUS', 'INDUS_TAX', 'ZN_B', 'AGE_DIS', 'AGE_RAD', 'DIS_B', 'CRIM_B_LSTAT']\n",
      "1.2264482758620687\n",
      "\n",
      "criterion=mae, max_depth=9, min_samples_split=3, min_samples_leaf=1\n",
      "['CRIM', 'INDUS', 'NOX', 'RM', 'AGE', 'TAX', 'B', 'LSTAT', 'RM2', 'LSTAT2', 'INDUS2', 'NOX2', 'AGE2', 'TAX2', 'PTRATIO3', 'NOX3', 'NOX_INDUS', 'B_LSTAT', 'CRIM_RM', 'CRIM_AGE', 'LSTAT_AGE', 'LSTAT_INDUS', 'LSTAT_NOX', 'LSTAT_DIS', 'LSTAT_RAD', 'LSTAT_PTRATIO', 'RM_ZN', 'RM_INDUS', 'INDUS_PTRATIO', 'AGE_DIS', 'AGE_RAD', 'DIS_B', 'RAD_TAX', 'RAD_B', 'CRIM_B_LSTAT']\n",
      "1.3090689655172414\n",
      "\n",
      "criterion=friedman_mse, max_depth=9, min_samples_split=2, min_samples_leaf=1\n",
      "['CRIM', 'NOX', 'RM', 'AGE', 'DIS', 'TAX', 'B', 'LSTAT', 'RM2', 'INDUS2', 'NOX3', 'NOX_INDUS', 'CRIM_RM', 'CRIM_AGE', 'CRIM_PTRATIO', 'LSTAT_NOX', 'LSTAT_RAD', 'LSTAT_PTRATIO', 'RM_INDUS', 'INDUS_TAX', 'ZN_PTRATIO', 'AGE_DIS', 'AGE_RAD', 'DIS_B', 'RAD_TAX', 'CRIM_B_LSTAT']\n",
      "1.156800038795338\n",
      "\n",
      "criterion=friedman_mse, max_depth=9, min_samples_split=3, min_samples_leaf=1\n",
      "['CRIM', 'RM', 'DIS', 'TAX', 'B', 'RM2', 'LSTAT2', 'TAX2', 'NOX3', 'NOX_INDUS', 'CRIM_RM', 'CRIM_AGE', 'CRIM_PTRATIO', 'LSTAT_AGE', 'LSTAT_NOX', 'LSTAT_RM', 'LSTAT_RAD', 'LSTAT_PTRATIO', 'RM_INDUS', 'INDUS_PTRATIO', 'ZN_PTRATIO', 'AGE_DIS', 'AGE_RAD', 'DIS_B', 'RAD_B', 'CRIM_B_LSTAT']\n",
      "1.354489693967751\n",
      "\n"
     ]
    }
   ],
   "source": [
    "#Теперь мне надо получить параметры модели, при которых ошибка будет минимальной и не будет переобучения.\n",
    "criterion = ('mse', 'mae', 'friedman_mse', 'poisson')\n",
    "the_data, the_columns = best_dataset()\n",
    "\n",
    "X = the_data[the_columns]\n",
    "y = the_data['MEDV']\n",
    "\n",
    "for crit in criterion:\n",
    "    for depth in range(1, 10):\n",
    "        for split in range(2, 10):\n",
    "            for leaf in range(1, 10):\n",
    "                best_columns, error = training(X, y, columns=the_columns, criterion=crit, max_depth=depth, min_samples_split=split, min_samples_leaf=leaf, errors=False, viz=False)\n",
    "                if error < 1.4:\n",
    "                    print(f'criterion={crit}, max_depth={depth}, min_samples_split={split}, min_samples_leaf={leaf}')\n",
    "                    print(best_columns)  \n",
    "                    print(error)\n",
    "                    print()"
   ]
  },
  {
   "cell_type": "code",
   "execution_count": 12,
   "id": "d13729f2",
   "metadata": {},
   "outputs": [
    {
     "name": "stdout",
     "output_type": "stream",
     "text": [
      "learning error: 1.3407204048241228\n",
      "generalization error: 1.1568000387953377\n",
      "Error: 1.2855062162647566\n"
     ]
    },
    {
     "data": {
      "text/plain": [
       "(['NOX',\n",
       "  'RM',\n",
       "  'AGE',\n",
       "  'DIS',\n",
       "  'TAX',\n",
       "  'B',\n",
       "  'LSTAT',\n",
       "  'RM2',\n",
       "  'LSTAT2',\n",
       "  'AGE2',\n",
       "  'TAX2',\n",
       "  'NOX_INDUS',\n",
       "  'CRIM_RM',\n",
       "  'CRIM_AGE',\n",
       "  'CRIM_PTRATIO',\n",
       "  'LSTAT_AGE',\n",
       "  'LSTAT_INDUS',\n",
       "  'LSTAT_NOX',\n",
       "  'LSTAT_RM',\n",
       "  'LSTAT_RAD',\n",
       "  'LSTAT_PTRATIO',\n",
       "  'RM_INDUS',\n",
       "  'ZN_PTRATIO',\n",
       "  'AGE_DIS',\n",
       "  'AGE_RAD',\n",
       "  'DIS_B',\n",
       "  'RAD_B',\n",
       "  'CRIM_B_LSTAT'],\n",
       " 1.1568000387953377)"
      ]
     },
     "execution_count": 12,
     "metadata": {},
     "output_type": "execute_result"
    },
    {
     "data": {
      "image/png": "[encoded data removed]",
      "text/plain": [
       "<Figure size 504x1080 with 1 Axes>"
      ]
     },
     "metadata": {
      "needs_background": "light"
     },
     "output_type": "display_data"
    }
   ],
   "source": [
    "#Получается, что лучшие результаты дают значения по умолчанию и max_depth=9. Проверю, как работает такая модель\n",
    "best_columns, error = training(X, y, columns=the_columns, criterion='mse', max_depth=9, min_samples_split=2, min_samples_leaf=1)\n",
    "best_columns, error"
   ]
  },
  {
   "cell_type": "markdown",
   "id": "e0f88245",
   "metadata": {},
   "source": [
    "Теперь попробую отобрать признаки, которые влияют на модель, и запустить алгоритм только на них."
   ]
  },
  {
   "cell_type": "code",
   "execution_count": 13,
   "id": "7185426f",
   "metadata": {},
   "outputs": [
    {
     "name": "stdout",
     "output_type": "stream",
     "text": [
      "{'PTRATIO', 'LSTAT_DIS', 'NOX', 'TAX2', 'AGE2', 'INDUS_TAX', 'ZN2', 'ZN_PTRATIO', 'RM_ZN', 'INDUS', 'TAX', 'PTRATIO6', 'DIS', 'PTRATIO5', 'LSTAT_INDUS', 'AGE_DIS', 'AGE', 'LSTAT_PTRATIO', 'RM2', 'NOX_INDUS', 'LSTAT_NOX', 'LSTAT2', 'LSTAT_AGE', 'LSTAT_RM', 'LSTAT_RAD', 'CRIM_B_LSTAT', 'NOX3', 'INDUS3', 'RAD_B', 'ZN_B', 'DIS_B', 'B_LSTAT', 'RM', 'CRIM', 'PTRATIO2', 'PTRATIO3', 'B', 'RAD_TAX', 'INDUS_PTRATIO', 'CHAS_LSTAT', 'CRIM_PTRATIO', 'PTRATIO4', 'LSTAT', 'RM_INDUS', 'INDUS2', 'NOX2', 'CRIM_AGE', 'AGE_RAD', 'CRIM_RM'}\n"
     ]
    }
   ],
   "source": [
    "reduced_columns = set()\n",
    "\n",
    "for _ in range(50):\n",
    "    best_columns, error = training(X, y, columns=the_columns, criterion='mse', max_depth=9, min_samples_split=3, min_samples_leaf=1, errors=False, viz=False)\n",
    "    if error < 2:\n",
    "        reduced_columns = reduced_columns.union(set(best_columns))\n",
    "        \n",
    "print(reduced_columns)"
   ]
  },
  {
   "cell_type": "code",
   "execution_count": 15,
   "id": "89b6d4fd",
   "metadata": {},
   "outputs": [
    {
     "name": "stdout",
     "output_type": "stream",
     "text": [
      "49\n",
      "learning error: 1.7704689255341821\n",
      "generalization error: 1.3544896939677515\n",
      "Error: 1.6455890319997466\n"
     ]
    },
    {
     "data": {
      "text/plain": [
       "(['NOX',\n",
       "  'TAX2',\n",
       "  'ZN_PTRATIO',\n",
       "  'RM_ZN',\n",
       "  'DIS',\n",
       "  'LSTAT_INDUS',\n",
       "  'AGE_DIS',\n",
       "  'AGE',\n",
       "  'LSTAT_PTRATIO',\n",
       "  'RM2',\n",
       "  'NOX_INDUS',\n",
       "  'LSTAT_NOX',\n",
       "  'LSTAT2',\n",
       "  'LSTAT_RAD',\n",
       "  'CRIM_B_LSTAT',\n",
       "  'RAD_B',\n",
       "  'DIS_B',\n",
       "  'RM',\n",
       "  'CRIM',\n",
       "  'B',\n",
       "  'CHAS_LSTAT',\n",
       "  'PTRATIO4',\n",
       "  'LSTAT',\n",
       "  'RM_INDUS',\n",
       "  'CRIM_AGE',\n",
       "  'AGE_RAD',\n",
       "  'CRIM_RM'],\n",
       " 1.3544896939677515)"
      ]
     },
     "execution_count": 15,
     "metadata": {},
     "output_type": "execute_result"
    },
    {
     "data": {
      "image/png": "[encoded data removed]",
      "text/plain": [
       "<Figure size 504x1080 with 1 Axes>"
      ]
     },
     "metadata": {
      "needs_background": "light"
     },
     "output_type": "display_data"
    }
   ],
   "source": [
    "X = the_data[reduced_columns]\n",
    "print(len(reduced_columns))\n",
    "training(X, y, columns=reduced_columns, criterion='mse', max_depth=9, min_samples_split=3, min_samples_leaf=1)"
   ]
  },
  {
   "cell_type": "code",
   "execution_count": 17,
   "id": "1ee61898",
   "metadata": {},
   "outputs": [
    {
     "name": "stdout",
     "output_type": "stream",
     "text": [
      "criterion=mse, max_depth=9, min_samples_split=2, min_samples_leaf=1\n",
      "1.1568000387953377\n",
      "\n",
      "criterion=mse, max_depth=9, min_samples_split=3, min_samples_leaf=1\n",
      "1.3544896939677504\n",
      "\n",
      "criterion=mae, max_depth=9, min_samples_split=2, min_samples_leaf=1\n",
      "1.2264482758620687\n",
      "\n",
      "criterion=mae, max_depth=9, min_samples_split=3, min_samples_leaf=1\n",
      "1.3097586206896552\n",
      "\n",
      "criterion=friedman_mse, max_depth=9, min_samples_split=2, min_samples_leaf=1\n",
      "1.1568000387953379\n",
      "\n",
      "criterion=friedman_mse, max_depth=9, min_samples_split=3, min_samples_leaf=1\n",
      "1.3544896939677518\n",
      "\n"
     ]
    }
   ],
   "source": [
    "#Повторю цикл для поиска оптимальных критериев для редуцированных признаков:\n",
    "for crit in criterion:\n",
    "    for depth in range(1, 10):\n",
    "        for split in range(2, 10):\n",
    "            for leaf in range(1, 10):\n",
    "                best_columns, error = training(X, y, columns=reduced_columns, criterion=crit, max_depth=depth, min_samples_split=split, min_samples_leaf=leaf, errors=False, viz=False)\n",
    "                if error < 1.4:\n",
    "                    print(f'criterion={crit}, max_depth={depth}, min_samples_split={split}, min_samples_leaf={leaf}') \n",
    "                    print(error)\n",
    "                    print()"
   ]
  },
  {
   "cell_type": "markdown",
   "id": "5cfee3aa",
   "metadata": {},
   "source": [
    "Таким образом, при уменьшении количества признаков результаты работы цикла не изменились. "
   ]
  },
  {
   "cell_type": "code",
   "execution_count": null,
   "id": "ad3bead6",
   "metadata": {},
   "outputs": [],
   "source": []
  }
 ],
 "metadata": {
  "kernelspec": {
   "display_name": "Python 3",
   "language": "python",
   "name": "python3"
  },
  "language_info": {
   "codemirror_mode": {
    "name": "ipython",
    "version": 3
   },
   "file_extension": ".py",
   "mimetype": "text/x-python",
   "name": "python",
   "nbconvert_exporter": "python",
   "pygments_lexer": "ipython3",
   "version": "3.9.4"
  }
 },
 "nbformat": 4,
 "nbformat_minor": 5
}
