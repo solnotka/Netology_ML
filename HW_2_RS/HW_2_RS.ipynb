{
 "cells": [
  {
   "cell_type": "markdown",
   "id": "a7779972",
   "metadata": {},
   "source": [
    "### ПАКЕТ SURPRISE\n",
    "\n",
    "* используйте данные MovieLens 1M\n",
    "* можно использовать любые модели из пакета\n",
    "* получите RMSE на тестовом сете 0.87 и ниже\n",
    "\n",
    "#### Комментарий преподавателя :\n",
    "В ДЗ на датасет 1М может не хватить RAM. Можно сделать на 100K. Качество RMSE предлагаю считать на основе CrossValidation (5 фолдов), а не отложенном датасете."
   ]
  },
  {
   "cell_type": "code",
   "execution_count": 1,
   "id": "5df6aac7",
   "metadata": {},
   "outputs": [
    {
     "name": "stdout",
     "output_type": "stream",
     "text": [
      "Collecting surprise\n",
      "  Downloading surprise-0.1-py2.py3-none-any.whl (1.8 kB)\n",
      "Collecting scikit-surprise\n",
      "  Downloading scikit-surprise-1.1.1.tar.gz (11.8 MB)\n",
      "Requirement already satisfied: joblib>=0.11 in c:\\users\\solnotka\\anaconda3\\envs\\env_3\\lib\\site-packages (from scikit-surprise->surprise) (1.1.0)\n",
      "Requirement already satisfied: numpy>=1.11.2 in c:\\users\\solnotka\\anaconda3\\envs\\env_3\\lib\\site-packages (from scikit-surprise->surprise) (1.20.3)\n",
      "Requirement already satisfied: scipy>=1.0.0 in c:\\users\\solnotka\\anaconda3\\envs\\env_3\\lib\\site-packages (from scikit-surprise->surprise) (1.7.1)\n",
      "Requirement already satisfied: six>=1.10.0 in c:\\users\\solnotka\\anaconda3\\envs\\env_3\\lib\\site-packages (from scikit-surprise->surprise) (1.16.0)\n",
      "Building wheels for collected packages: scikit-surprise\n",
      "  Building wheel for scikit-surprise (setup.py): started\n",
      "  Building wheel for scikit-surprise (setup.py): finished with status 'done'\n",
      "  Created wheel for scikit-surprise: filename=scikit_surprise-1.1.1-cp38-cp38-win_amd64.whl size=733561 sha256=c3b432e51e28ac92ac452ab248cde59388b6d2a8f6ef346f836bf2494a186d1d\n",
      "  Stored in directory: c:\\users\\solnotka\\appdata\\local\\pip\\cache\\wheels\\20\\91\\57\\2965d4cff1b8ac7ed1b6fa25741882af3974b54a31759e10b6\n",
      "Successfully built scikit-surprise\n",
      "Installing collected packages: scikit-surprise, surprise\n",
      "Successfully installed scikit-surprise-1.1.1 surprise-0.1\n",
      "Note: you may need to restart the kernel to use updated packages.\n"
     ]
    }
   ],
   "source": [
    "pip install surprise"
   ]
  },
  {
   "cell_type": "code",
   "execution_count": 2,
   "id": "c956a31a",
   "metadata": {},
   "outputs": [
    {
     "name": "stdout",
     "output_type": "stream",
     "text": [
      "usage: surprise [-h] [-algo <prediction algorithm>]\n",
      "                [-params <algorithm parameters>]\n",
      "                [-load-builtin <dataset name>] [-load-custom <file path>]\n",
      "                [-folds-files <train1 test1 train2 test2... >]\n",
      "                [-reader <reader>] [-n-folds <number of folds>]\n",
      "                [-seed <random seed>] [--with-dump] [-dump-dir <dir>]\n",
      "                [--clean] [-v]\n",
      "\n",
      "Evaluate the performance of a rating prediction algorithm on a given dataset\n",
      "using cross validation. You can use a built-in or a custom dataset, and you\n",
      "can choose to automatically split the dataset into folds, or manually specify\n",
      "train and test files. Please refer to the documentation page\n",
      "(http://surprise.readthedocs.io/) for more details.\n",
      "\n",
      "optional arguments:\n",
      "  -h, --help            show this help message and exit\n",
      "  -algo <prediction algorithm>\n",
      "                        The prediction algorithm to use. Allowed values are\n",
      "                        NormalPredictor, BaselineOnly, KNNBasic, KNNBaseline,\n",
      "                        KNNWithMeans, SVD, SVDpp, NMF, SlopeOne, CoClustering.\n",
      "  -params <algorithm parameters>\n",
      "                        A kwargs dictionary that contains all the algorithm\n",
      "                        parameters.Example: \"{'n_epochs': 10}\".\n",
      "  -load-builtin <dataset name>\n",
      "                        The name of the built-in dataset to use.Allowed values\n",
      "                        are ml-100k, ml-1m, jester. Default is ml-100k.\n",
      "  -load-custom <file path>\n",
      "                        A file path to custom dataset to use. Ignored if\n",
      "                        -loadbuiltin is set. The -reader parameter needs to be\n",
      "                        set.\n",
      "  -folds-files <train1 test1 train2 test2... >\n",
      "                        A list of custom train and test files. Ignored if\n",
      "                        -load-builtin or -load-custom is set. The -reader\n",
      "                        parameter needs to be set.\n",
      "  -reader <reader>      A Reader to read the custom dataset. Example:\n",
      "                        \"Reader(line_format='user item rating timestamp',\n",
      "                        sep='\\t')\"\n",
      "  -n-folds <number of folds>\n",
      "                        The number of folds for cross-validation. Default is\n",
      "                        5.\n",
      "  -seed <random seed>   The seed to use for RNG. Default is the current system\n",
      "                        time.\n",
      "  --with-dump           Dump the algorithm results in a file (one file per\n",
      "                        fold). Default is False.\n",
      "  -dump-dir <dir>       Where to dump the files. Ignored if with-dump is not\n",
      "                        set. Default is\n",
      "                        C:\\Users\\Solnotka/.surprise_data/dumps/\n",
      "  --clean               Remove the C:\\Users\\Solnotka/.surprise_data/ directory\n",
      "                        and exit.\n",
      "  -v, --version         show program's version number and exit\n",
      "\n",
      "Example: surprise -algo SVD -params \"{'n_epochs': 5, 'verbose': True}\" -load-\n",
      "builtin ml-100k -n-folds 3\n"
     ]
    },
    {
     "name": "stderr",
     "output_type": "stream",
     "text": [
      "error: No algorithm was specified.\n"
     ]
    }
   ],
   "source": [
    "!surprise"
   ]
  },
  {
   "cell_type": "code",
   "execution_count": null,
   "id": "3b33d4c7",
   "metadata": {},
   "outputs": [],
   "source": []
  }
 ],
 "metadata": {
  "kernelspec": {
   "display_name": "Python 3 (ipykernel)",
   "language": "python",
   "name": "python3"
  },
  "language_info": {
   "codemirror_mode": {
    "name": "ipython",
    "version": 3
   },
   "file_extension": ".py",
   "mimetype": "text/x-python",
   "name": "python",
   "nbconvert_exporter": "python",
   "pygments_lexer": "ipython3",
   "version": "3.8.12"
  }
 },
 "nbformat": 4,
 "nbformat_minor": 5
}
