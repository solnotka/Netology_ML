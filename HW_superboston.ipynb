{
 "cells": [
  {
   "cell_type": "markdown",
   "id": "66a4587c",
   "metadata": {},
   "source": [
    "# Домашняя работа\n",
    "Взять boston house-prices datase (sklearn.datasets.load_boston) и сделать тоже самое для задачи регрессии (попробовать разные алгоритмы, поподбирать параметры, вывести итоговое качество)"
   ]
  },
  {
   "cell_type": "code",
   "execution_count": 59,
   "id": "a930fb69",
   "metadata": {},
   "outputs": [],
   "source": [
    "import numpy as np\n",
    "import pandas as pd\n",
    "\n",
    "from sklearn.datasets import load_boston\n",
    "from sklearn.ensemble import RandomForestRegressor\n",
    "from sklearn.linear_model import Lasso\n",
    "from sklearn.metrics import mean_squared_error\n",
    "from sklearn.model_selection import GridSearchCV, RandomizedSearchCV, train_test_split\n",
    "from sklearn.neighbors import KNeighborsRegressor\n",
    "from sklearn.preprocessing import PolynomialFeatures\n",
    "\n",
    "import warnings\n",
    "warnings.filterwarnings(\"ignore\")"
   ]
  },
  {
   "cell_type": "code",
   "execution_count": 2,
   "id": "b779717c",
   "metadata": {},
   "outputs": [
    {
     "data": {
      "text/html": [
       "<div>\n",
       "<style scoped>\n",
       "    .dataframe tbody tr th:only-of-type {\n",
       "        vertical-align: middle;\n",
       "    }\n",
       "\n",
       "    .dataframe tbody tr th {\n",
       "        vertical-align: top;\n",
       "    }\n",
       "\n",
       "    .dataframe thead th {\n",
       "        text-align: right;\n",
       "    }\n",
       "</style>\n",
       "<table border=\"1\" class=\"dataframe\">\n",
       "  <thead>\n",
       "    <tr style=\"text-align: right;\">\n",
       "      <th></th>\n",
       "      <th>CRIM</th>\n",
       "      <th>ZN</th>\n",
       "      <th>INDUS</th>\n",
       "      <th>CHAS</th>\n",
       "      <th>NOX</th>\n",
       "      <th>RM</th>\n",
       "      <th>AGE</th>\n",
       "      <th>DIS</th>\n",
       "      <th>RAD</th>\n",
       "      <th>TAX</th>\n",
       "      <th>PTRATIO</th>\n",
       "      <th>B</th>\n",
       "      <th>LSTAT</th>\n",
       "    </tr>\n",
       "  </thead>\n",
       "  <tbody>\n",
       "    <tr>\n",
       "      <th>0</th>\n",
       "      <td>0.00632</td>\n",
       "      <td>18.0</td>\n",
       "      <td>2.31</td>\n",
       "      <td>0.0</td>\n",
       "      <td>0.538</td>\n",
       "      <td>6.575</td>\n",
       "      <td>65.2</td>\n",
       "      <td>4.0900</td>\n",
       "      <td>1.0</td>\n",
       "      <td>296.0</td>\n",
       "      <td>15.3</td>\n",
       "      <td>396.90</td>\n",
       "      <td>4.98</td>\n",
       "    </tr>\n",
       "    <tr>\n",
       "      <th>1</th>\n",
       "      <td>0.02731</td>\n",
       "      <td>0.0</td>\n",
       "      <td>7.07</td>\n",
       "      <td>0.0</td>\n",
       "      <td>0.469</td>\n",
       "      <td>6.421</td>\n",
       "      <td>78.9</td>\n",
       "      <td>4.9671</td>\n",
       "      <td>2.0</td>\n",
       "      <td>242.0</td>\n",
       "      <td>17.8</td>\n",
       "      <td>396.90</td>\n",
       "      <td>9.14</td>\n",
       "    </tr>\n",
       "    <tr>\n",
       "      <th>2</th>\n",
       "      <td>0.02729</td>\n",
       "      <td>0.0</td>\n",
       "      <td>7.07</td>\n",
       "      <td>0.0</td>\n",
       "      <td>0.469</td>\n",
       "      <td>7.185</td>\n",
       "      <td>61.1</td>\n",
       "      <td>4.9671</td>\n",
       "      <td>2.0</td>\n",
       "      <td>242.0</td>\n",
       "      <td>17.8</td>\n",
       "      <td>392.83</td>\n",
       "      <td>4.03</td>\n",
       "    </tr>\n",
       "    <tr>\n",
       "      <th>3</th>\n",
       "      <td>0.03237</td>\n",
       "      <td>0.0</td>\n",
       "      <td>2.18</td>\n",
       "      <td>0.0</td>\n",
       "      <td>0.458</td>\n",
       "      <td>6.998</td>\n",
       "      <td>45.8</td>\n",
       "      <td>6.0622</td>\n",
       "      <td>3.0</td>\n",
       "      <td>222.0</td>\n",
       "      <td>18.7</td>\n",
       "      <td>394.63</td>\n",
       "      <td>2.94</td>\n",
       "    </tr>\n",
       "    <tr>\n",
       "      <th>4</th>\n",
       "      <td>0.06905</td>\n",
       "      <td>0.0</td>\n",
       "      <td>2.18</td>\n",
       "      <td>0.0</td>\n",
       "      <td>0.458</td>\n",
       "      <td>7.147</td>\n",
       "      <td>54.2</td>\n",
       "      <td>6.0622</td>\n",
       "      <td>3.0</td>\n",
       "      <td>222.0</td>\n",
       "      <td>18.7</td>\n",
       "      <td>396.90</td>\n",
       "      <td>5.33</td>\n",
       "    </tr>\n",
       "    <tr>\n",
       "      <th>...</th>\n",
       "      <td>...</td>\n",
       "      <td>...</td>\n",
       "      <td>...</td>\n",
       "      <td>...</td>\n",
       "      <td>...</td>\n",
       "      <td>...</td>\n",
       "      <td>...</td>\n",
       "      <td>...</td>\n",
       "      <td>...</td>\n",
       "      <td>...</td>\n",
       "      <td>...</td>\n",
       "      <td>...</td>\n",
       "      <td>...</td>\n",
       "    </tr>\n",
       "    <tr>\n",
       "      <th>501</th>\n",
       "      <td>0.06263</td>\n",
       "      <td>0.0</td>\n",
       "      <td>11.93</td>\n",
       "      <td>0.0</td>\n",
       "      <td>0.573</td>\n",
       "      <td>6.593</td>\n",
       "      <td>69.1</td>\n",
       "      <td>2.4786</td>\n",
       "      <td>1.0</td>\n",
       "      <td>273.0</td>\n",
       "      <td>21.0</td>\n",
       "      <td>391.99</td>\n",
       "      <td>9.67</td>\n",
       "    </tr>\n",
       "    <tr>\n",
       "      <th>502</th>\n",
       "      <td>0.04527</td>\n",
       "      <td>0.0</td>\n",
       "      <td>11.93</td>\n",
       "      <td>0.0</td>\n",
       "      <td>0.573</td>\n",
       "      <td>6.120</td>\n",
       "      <td>76.7</td>\n",
       "      <td>2.2875</td>\n",
       "      <td>1.0</td>\n",
       "      <td>273.0</td>\n",
       "      <td>21.0</td>\n",
       "      <td>396.90</td>\n",
       "      <td>9.08</td>\n",
       "    </tr>\n",
       "    <tr>\n",
       "      <th>503</th>\n",
       "      <td>0.06076</td>\n",
       "      <td>0.0</td>\n",
       "      <td>11.93</td>\n",
       "      <td>0.0</td>\n",
       "      <td>0.573</td>\n",
       "      <td>6.976</td>\n",
       "      <td>91.0</td>\n",
       "      <td>2.1675</td>\n",
       "      <td>1.0</td>\n",
       "      <td>273.0</td>\n",
       "      <td>21.0</td>\n",
       "      <td>396.90</td>\n",
       "      <td>5.64</td>\n",
       "    </tr>\n",
       "    <tr>\n",
       "      <th>504</th>\n",
       "      <td>0.10959</td>\n",
       "      <td>0.0</td>\n",
       "      <td>11.93</td>\n",
       "      <td>0.0</td>\n",
       "      <td>0.573</td>\n",
       "      <td>6.794</td>\n",
       "      <td>89.3</td>\n",
       "      <td>2.3889</td>\n",
       "      <td>1.0</td>\n",
       "      <td>273.0</td>\n",
       "      <td>21.0</td>\n",
       "      <td>393.45</td>\n",
       "      <td>6.48</td>\n",
       "    </tr>\n",
       "    <tr>\n",
       "      <th>505</th>\n",
       "      <td>0.04741</td>\n",
       "      <td>0.0</td>\n",
       "      <td>11.93</td>\n",
       "      <td>0.0</td>\n",
       "      <td>0.573</td>\n",
       "      <td>6.030</td>\n",
       "      <td>80.8</td>\n",
       "      <td>2.5050</td>\n",
       "      <td>1.0</td>\n",
       "      <td>273.0</td>\n",
       "      <td>21.0</td>\n",
       "      <td>396.90</td>\n",
       "      <td>7.88</td>\n",
       "    </tr>\n",
       "  </tbody>\n",
       "</table>\n",
       "<p>506 rows × 13 columns</p>\n",
       "</div>"
      ],
      "text/plain": [
       "        CRIM    ZN  INDUS  CHAS    NOX     RM   AGE     DIS  RAD    TAX  \\\n",
       "0    0.00632  18.0   2.31   0.0  0.538  6.575  65.2  4.0900  1.0  296.0   \n",
       "1    0.02731   0.0   7.07   0.0  0.469  6.421  78.9  4.9671  2.0  242.0   \n",
       "2    0.02729   0.0   7.07   0.0  0.469  7.185  61.1  4.9671  2.0  242.0   \n",
       "3    0.03237   0.0   2.18   0.0  0.458  6.998  45.8  6.0622  3.0  222.0   \n",
       "4    0.06905   0.0   2.18   0.0  0.458  7.147  54.2  6.0622  3.0  222.0   \n",
       "..       ...   ...    ...   ...    ...    ...   ...     ...  ...    ...   \n",
       "501  0.06263   0.0  11.93   0.0  0.573  6.593  69.1  2.4786  1.0  273.0   \n",
       "502  0.04527   0.0  11.93   0.0  0.573  6.120  76.7  2.2875  1.0  273.0   \n",
       "503  0.06076   0.0  11.93   0.0  0.573  6.976  91.0  2.1675  1.0  273.0   \n",
       "504  0.10959   0.0  11.93   0.0  0.573  6.794  89.3  2.3889  1.0  273.0   \n",
       "505  0.04741   0.0  11.93   0.0  0.573  6.030  80.8  2.5050  1.0  273.0   \n",
       "\n",
       "     PTRATIO       B  LSTAT  \n",
       "0       15.3  396.90   4.98  \n",
       "1       17.8  396.90   9.14  \n",
       "2       17.8  392.83   4.03  \n",
       "3       18.7  394.63   2.94  \n",
       "4       18.7  396.90   5.33  \n",
       "..       ...     ...    ...  \n",
       "501     21.0  391.99   9.67  \n",
       "502     21.0  396.90   9.08  \n",
       "503     21.0  396.90   5.64  \n",
       "504     21.0  393.45   6.48  \n",
       "505     21.0  396.90   7.88  \n",
       "\n",
       "[506 rows x 13 columns]"
      ]
     },
     "execution_count": 2,
     "metadata": {},
     "output_type": "execute_result"
    }
   ],
   "source": [
    "data = pd.DataFrame(data = load_boston()['data'], columns = load_boston()['feature_names'])\n",
    "data"
   ]
  },
  {
   "cell_type": "code",
   "execution_count": 3,
   "id": "fa066aff",
   "metadata": {},
   "outputs": [
    {
     "data": {
      "text/plain": [
       "506"
      ]
     },
     "execution_count": 3,
     "metadata": {},
     "output_type": "execute_result"
    }
   ],
   "source": [
    "target = load_boston()['target']\n",
    "len(target)"
   ]
  },
  {
   "cell_type": "code",
   "execution_count": 4,
   "id": "934850ab",
   "metadata": {},
   "outputs": [
    {
     "name": "stdout",
     "output_type": "stream",
     "text": [
      "<class 'pandas.core.frame.DataFrame'>\n",
      "RangeIndex: 506 entries, 0 to 505\n",
      "Data columns (total 13 columns):\n",
      " #   Column   Non-Null Count  Dtype  \n",
      "---  ------   --------------  -----  \n",
      " 0   CRIM     506 non-null    float64\n",
      " 1   ZN       506 non-null    float64\n",
      " 2   INDUS    506 non-null    float64\n",
      " 3   CHAS     506 non-null    float64\n",
      " 4   NOX      506 non-null    float64\n",
      " 5   RM       506 non-null    float64\n",
      " 6   AGE      506 non-null    float64\n",
      " 7   DIS      506 non-null    float64\n",
      " 8   RAD      506 non-null    float64\n",
      " 9   TAX      506 non-null    float64\n",
      " 10  PTRATIO  506 non-null    float64\n",
      " 11  B        506 non-null    float64\n",
      " 12  LSTAT    506 non-null    float64\n",
      "dtypes: float64(13)\n",
      "memory usage: 51.5 KB\n"
     ]
    }
   ],
   "source": [
    "data.info()"
   ]
  },
  {
   "cell_type": "code",
   "execution_count": 102,
   "id": "162bd54e",
   "metadata": {},
   "outputs": [],
   "source": [
    "X_train, X_test, y_train, y_test = train_test_split(data, target, test_size=0.3, random_state=42)"
   ]
  },
  {
   "cell_type": "markdown",
   "id": "083abcdf",
   "metadata": {},
   "source": [
    "Опыт работы с бостонским датасетом позволяет предположить, что генерирование полиномиальных признаков улучшит модель. Поэтому сразу сделаю вариант матрицы признаков с полиномиальными признаками"
   ]
  },
  {
   "cell_type": "code",
   "execution_count": 77,
   "id": "7dcfa11e",
   "metadata": {},
   "outputs": [],
   "source": [
    "data_poly = PolynomialFeatures(degree=2).fit_transform(data)"
   ]
  },
  {
   "cell_type": "code",
   "execution_count": 103,
   "id": "6701c25a",
   "metadata": {},
   "outputs": [],
   "source": [
    "Xp_train, Xp_test, yp_train, yp_test = train_test_split(data_poly, target, test_size=0.3, random_state=42)"
   ]
  },
  {
   "cell_type": "markdown",
   "id": "8c99943b",
   "metadata": {},
   "source": [
    "Буду тестировать три алгоритма: RandomForestRegressor, KNeighborsRegressor и Lasso. Для каждого из них создам словарь с вариантами параметров. "
   ]
  },
  {
   "cell_type": "code",
   "execution_count": 170,
   "id": "70bc0aff",
   "metadata": {},
   "outputs": [],
   "source": [
    "forest_params = {\n",
    "    'n_estimators': range(5, 200, 5),\n",
    "    'criterion': ('squared_error', 'absolute_error', 'poisson'),\n",
    "    'max_depth': list(range(1, 30)) + [None],\n",
    "    'max_features': ['auto', 'sqrt', 'log2', 25]\n",
    "}"
   ]
  },
  {
   "cell_type": "code",
   "execution_count": 6,
   "id": "9f4ec910",
   "metadata": {},
   "outputs": [],
   "source": [
    "neighbors_params = {\n",
    "    'n_neighbors': range(1, 35),\n",
    "    'weights': ('uniform', 'distance'),\n",
    "    'algorithm': ('auto', 'ball_tree', 'kd_tree', 'brute'),\n",
    "    'p': range(1, 6)\n",
    "}"
   ]
  },
  {
   "cell_type": "code",
   "execution_count": 60,
   "id": "92f06d55",
   "metadata": {},
   "outputs": [],
   "source": [
    "lasso_params = {\n",
    "    'alpha': list(2**np.linspace(-10,10,100)),\n",
    "    'fit_intercept': (True, False),\n",
    "    'normalize': (True, False),\n",
    "    'warm_start':(True, False),\n",
    "    'positive': (True, False),\n",
    "    'selection': ('cyclic', 'random')\n",
    "}"
   ]
  },
  {
   "cell_type": "markdown",
   "id": "5c6aa5cc",
   "metadata": {},
   "source": [
    "GridSearchCV для RandomForest работает слишком долго, поэтому заменю его RandomizedSearchCV. oob_score ставлю равным True, чтобы минимизировать переобучение. К значению cv=25 пришла опытным путем: это компромисс между временем работы и качеством."
   ]
  },
  {
   "cell_type": "code",
   "execution_count": 171,
   "id": "496729f6",
   "metadata": {},
   "outputs": [],
   "source": [
    "forest_grid = RandomizedSearchCV(\n",
    "    RandomForestRegressor(oob_score=True),\n",
    "    forest_params,\n",
    "    cv=25,\n",
    "    scoring = 'neg_root_mean_squared_error\n",
    ")"
   ]
  },
  {
   "cell_type": "code",
   "execution_count": 172,
   "id": "1593d245",
   "metadata": {},
   "outputs": [
    {
     "name": "stdout",
     "output_type": "stream",
     "text": [
      "****************************************\n",
      "RandomForestRegressor(criterion='absolute_error', max_features='log2',\n",
      "                      n_estimators=55, oob_score=True)\n",
      "-3.627993675108557\n",
      "****************************************\n",
      "RandomForestRegressor(max_depth=19, max_features='sqrt', n_estimators=65,\n",
      "                      oob_score=True)\n",
      "-3.503290337339582\n",
      "****************************************\n",
      "RandomForestRegressor(criterion='absolute_error', max_depth=10,\n",
      "                      max_features='log2', n_estimators=160, oob_score=True)\n",
      "-3.511013652276719\n",
      "****************************************\n",
      "RandomForestRegressor(criterion='absolute_error', max_depth=13,\n",
      "                      max_features='log2', n_estimators=115, oob_score=True)\n",
      "-3.4922771144943128\n",
      "****************************************\n",
      "RandomForestRegressor(criterion='absolute_error', max_depth=10,\n",
      "                      max_features='sqrt', n_estimators=120, oob_score=True)\n",
      "-3.5514796741945758\n",
      "Wall time: 9min 48s\n"
     ]
    }
   ],
   "source": [
    "%%time\n",
    "\n",
    "for _ in range(5):\n",
    "    forest_grid.fit(data, target)\n",
    "    print('*' * 40)\n",
    "    print(forest_grid.best_estimator_)\n",
    "    print(forest_grid.best_score_)"
   ]
  },
  {
   "cell_type": "code",
   "execution_count": 176,
   "id": "b51df508",
   "metadata": {},
   "outputs": [
    {
     "data": {
      "text/plain": [
       "2.1058726616446943"
      ]
     },
     "execution_count": 176,
     "metadata": {},
     "output_type": "execute_result"
    }
   ],
   "source": [
    "mean_squared_error(forest_grid.predict(X_train), y_train)"
   ]
  },
  {
   "cell_type": "code",
   "execution_count": 177,
   "id": "eecafb91",
   "metadata": {},
   "outputs": [
    {
     "data": {
      "text/plain": [
       "2.1971199401498525"
      ]
     },
     "execution_count": 177,
     "metadata": {},
     "output_type": "execute_result"
    }
   ],
   "source": [
    "mean_squared_error(forest_grid.predict(X_test), y_test)"
   ]
  },
  {
   "cell_type": "markdown",
   "id": "ee0d3870",
   "metadata": {},
   "source": [
    "Предобученный алгоритм дал хорошие результаты на тренировочной и тестовой выборках. Теперь я подставлю найденные параметры в необученный RandomForestRegressor и проверю его результаты"
   ]
  },
  {
   "cell_type": "code",
   "execution_count": 178,
   "id": "62a8a534",
   "metadata": {},
   "outputs": [
    {
     "data": {
      "text/plain": [
       "9.840166053129039"
      ]
     },
     "execution_count": 178,
     "metadata": {},
     "output_type": "execute_result"
    }
   ],
   "source": [
    "forest_control = RandomForestRegressor(criterion='absolute_error', max_depth=13,\n",
    "                      max_features='log2', n_estimators=115, oob_score=True)\n",
    "forest_control.fit(X_train, y_train)\n",
    "mean_squared_error(forest_control.predict(X_test), y_test)"
   ]
  },
  {
   "cell_type": "code",
   "execution_count": 179,
   "id": "dc8efc19",
   "metadata": {},
   "outputs": [
    {
     "data": {
      "text/plain": [
       "1.9761330273514646"
      ]
     },
     "execution_count": 179,
     "metadata": {},
     "output_type": "execute_result"
    }
   ],
   "source": [
    "mean_squared_error(forest_control.predict(X_train), y_train)"
   ]
  },
  {
   "cell_type": "markdown",
   "id": "60577197",
   "metadata": {},
   "source": [
    "Модель переобучилась, но при oob_score = False все было намного хуже."
   ]
  },
  {
   "cell_type": "markdown",
   "id": "49315e87",
   "metadata": {},
   "source": [
    "Та же последовательность действий для данных с полиномиальными признаками"
   ]
  },
  {
   "cell_type": "code",
   "execution_count": 180,
   "id": "36549c9b",
   "metadata": {},
   "outputs": [],
   "source": [
    "forest_grid_poly = RandomizedSearchCV(\n",
    "    RandomForestRegressor(oob_score=True),\n",
    "    forest_params,\n",
    "    cv=25,\n",
    "    scoring = 'neg_root_mean_squared_error'\n",
    ")"
   ]
  },
  {
   "cell_type": "code",
   "execution_count": 181,
   "id": "69d8fd65",
   "metadata": {},
   "outputs": [
    {
     "name": "stdout",
     "output_type": "stream",
     "text": [
      "****************************************\n",
      "RandomForestRegressor(criterion='absolute_error', max_depth=14,\n",
      "                      max_features='sqrt', n_estimators=185, oob_score=True)\n",
      "-3.4444464946534947\n",
      "****************************************\n",
      "RandomForestRegressor(max_depth=16, max_features=25, n_estimators=20,\n",
      "                      oob_score=True)\n",
      "-3.461770340541142\n",
      "****************************************\n",
      "RandomForestRegressor(criterion='absolute_error', max_depth=15, max_features=25,\n",
      "                      n_estimators=130, oob_score=True)\n",
      "-3.3905238938486666\n",
      "****************************************\n",
      "RandomForestRegressor(max_depth=21, max_features=25, n_estimators=120,\n",
      "                      oob_score=True)\n",
      "-3.423576983568042\n",
      "****************************************\n",
      "RandomForestRegressor(criterion='absolute_error', max_depth=24, max_features=25,\n",
      "                      n_estimators=150, oob_score=True)\n",
      "-3.4085598300061464\n",
      "Wall time: 38min 17s\n"
     ]
    }
   ],
   "source": [
    "%%time\n",
    "\n",
    "for _ in range(5):\n",
    "    forest_grid_poly.fit(data_poly, target)\n",
    "    print('*' * 40)\n",
    "    print(forest_grid_poly.best_estimator_)\n",
    "    print(forest_grid_poly.best_score_)"
   ]
  },
  {
   "cell_type": "code",
   "execution_count": 183,
   "id": "fbcb3077",
   "metadata": {},
   "outputs": [
    {
     "data": {
      "text/plain": [
       "1.436245748901444"
      ]
     },
     "execution_count": 183,
     "metadata": {},
     "output_type": "execute_result"
    }
   ],
   "source": [
    "mean_squared_error(forest_grid_poly.predict(Xp_train), yp_train)"
   ]
  },
  {
   "cell_type": "code",
   "execution_count": 184,
   "id": "78b7e2c7",
   "metadata": {},
   "outputs": [
    {
     "data": {
      "text/plain": [
       "1.312329814327489"
      ]
     },
     "execution_count": 184,
     "metadata": {},
     "output_type": "execute_result"
    }
   ],
   "source": [
    "mean_squared_error(forest_grid_poly.predict(Xp_test), yp_test)"
   ]
  },
  {
   "cell_type": "code",
   "execution_count": 185,
   "id": "6f3d0c84",
   "metadata": {},
   "outputs": [
    {
     "data": {
      "text/plain": [
       "8.840799918249761"
      ]
     },
     "execution_count": 185,
     "metadata": {},
     "output_type": "execute_result"
    }
   ],
   "source": [
    "forest_control_poly = RandomForestRegressor(criterion='absolute_error', max_depth=15, max_features=25,\n",
    "                      n_estimators=130, oob_score=True)\n",
    "forest_control_poly.fit(Xp_train, yp_train)\n",
    "mean_squared_error(forest_control_poly.predict(Xp_test), yp_test)"
   ]
  },
  {
   "cell_type": "code",
   "execution_count": 186,
   "id": "ddf093a1",
   "metadata": {},
   "outputs": [
    {
     "data": {
      "text/plain": [
       "1.6794601665663746"
      ]
     },
     "execution_count": 186,
     "metadata": {},
     "output_type": "execute_result"
    }
   ],
   "source": [
    "mean_squared_error(forest_control_poly.predict(Xp_train), yp_train)"
   ]
  },
  {
   "cell_type": "markdown",
   "id": "c925394d",
   "metadata": {},
   "source": [
    "Ошибка на тестовой выборке уменьшилась на единицу по сравнению с моделью, обученной без полиномиальных признаков. Разрыв между тренировочной и тестовой выборкой тоже уменьшился. Модель все равно переобучается, но прогресс заметен."
   ]
  },
  {
   "cell_type": "markdown",
   "id": "19b0cc93",
   "metadata": {},
   "source": [
    "Для KNeighborsRegressor можно использовать GridSearchCV. Чтобы избежать переобучения, я довела cv до 50. Это помогло уменьшить ошибку, но переобучение все равно очень сильное."
   ]
  },
  {
   "cell_type": "code",
   "execution_count": 155,
   "id": "8b6dfcd6",
   "metadata": {},
   "outputs": [
    {
     "name": "stdout",
     "output_type": "stream",
     "text": [
      "Wall time: 6min 18s\n"
     ]
    },
    {
     "data": {
      "text/plain": [
       "GridSearchCV(cv=50, estimator=KNeighborsRegressor(),\n",
       "             param_grid={'algorithm': ('auto', 'ball_tree', 'kd_tree', 'brute'),\n",
       "                         'n_neighbors': range(1, 35), 'p': range(1, 6),\n",
       "                         'weights': ('uniform', 'distance')},\n",
       "             scoring='neg_root_mean_squared_error')"
      ]
     },
     "execution_count": 155,
     "metadata": {},
     "output_type": "execute_result"
    }
   ],
   "source": [
    "%%time\n",
    "\n",
    "neighbors_best = GridSearchCV(KNeighborsRegressor(), neighbors_params, cv=50, scoring = 'neg_root_mean_squared_error')\n",
    "neighbors_best.fit(data, target)"
   ]
  },
  {
   "cell_type": "code",
   "execution_count": 156,
   "id": "55cf32f3",
   "metadata": {},
   "outputs": [
    {
     "data": {
      "text/plain": [
       "KNeighborsRegressor(n_neighbors=6, p=1, weights='distance')"
      ]
     },
     "execution_count": 156,
     "metadata": {},
     "output_type": "execute_result"
    }
   ],
   "source": [
    "neighbors_best.best_estimator_"
   ]
  },
  {
   "cell_type": "code",
   "execution_count": 157,
   "id": "d3dc1c01",
   "metadata": {},
   "outputs": [
    {
     "data": {
      "text/plain": [
       "-5.728238164863335"
      ]
     },
     "execution_count": 157,
     "metadata": {},
     "output_type": "execute_result"
    }
   ],
   "source": [
    "neighbors_best.best_score_"
   ]
  },
  {
   "cell_type": "code",
   "execution_count": 158,
   "id": "6a8ab4f5",
   "metadata": {},
   "outputs": [
    {
     "data": {
      "text/plain": [
       "0.0"
      ]
     },
     "execution_count": 158,
     "metadata": {},
     "output_type": "execute_result"
    }
   ],
   "source": [
    "mean_squared_error(neighbors_best.predict(X_train), y_train)"
   ]
  },
  {
   "cell_type": "code",
   "execution_count": 159,
   "id": "b8b4d228",
   "metadata": {},
   "outputs": [
    {
     "data": {
      "text/plain": [
       "0.0"
      ]
     },
     "execution_count": 159,
     "metadata": {},
     "output_type": "execute_result"
    }
   ],
   "source": [
    "mean_squared_error(neighbors_best.predict(X_test), y_test)"
   ]
  },
  {
   "cell_type": "code",
   "execution_count": 160,
   "id": "ced9cfc0",
   "metadata": {},
   "outputs": [
    {
     "data": {
      "text/plain": [
       "22.389989574113468"
      ]
     },
     "execution_count": 160,
     "metadata": {},
     "output_type": "execute_result"
    }
   ],
   "source": [
    "neighbors_control = KNeighborsRegressor(n_neighbors=6, p=1, weights='distance')\n",
    "neighbors_control.fit(X_train, y_train)\n",
    "mean_squared_error(neighbors_control.predict(X_test), y_test)"
   ]
  },
  {
   "cell_type": "code",
   "execution_count": 161,
   "id": "045a8a88",
   "metadata": {},
   "outputs": [
    {
     "data": {
      "text/plain": [
       "0.0"
      ]
     },
     "execution_count": 161,
     "metadata": {},
     "output_type": "execute_result"
    }
   ],
   "source": [
    "mean_squared_error(neighbors_control.predict(X_train), y_train)"
   ]
  },
  {
   "cell_type": "markdown",
   "id": "b6f7525f",
   "metadata": {},
   "source": [
    "Использование полиномиальных признаков в целом не давало существенных результатов для KNeighborsRegressor, поэтому я не стала запускать GridSearchCV с cv=50, а оставила один из первоначальных вариантов. Результаты те же: при контрольном запуске большая MSE на тестовой выборке и нулевая на тренировочной, то есть переобучение."
   ]
  },
  {
   "cell_type": "code",
   "execution_count": 111,
   "id": "df0b2d28",
   "metadata": {},
   "outputs": [
    {
     "name": "stdout",
     "output_type": "stream",
     "text": [
      "Wall time: 8min 43s\n"
     ]
    },
    {
     "data": {
      "text/plain": [
       "GridSearchCV(cv=15, estimator=KNeighborsRegressor(),\n",
       "             param_grid={'algorithm': ('auto', 'ball_tree', 'kd_tree', 'brute'),\n",
       "                         'n_neighbors': range(1, 35), 'p': range(1, 6),\n",
       "                         'weights': ('uniform', 'distance')},\n",
       "             scoring='neg_root_mean_squared_error')"
      ]
     },
     "execution_count": 111,
     "metadata": {},
     "output_type": "execute_result"
    }
   ],
   "source": [
    "%%time\n",
    "\n",
    "neighbors_best_poly = GridSearchCV(KNeighborsRegressor(), neighbors_params, cv=15, scoring = 'neg_root_mean_squared_error')\n",
    "neighbors_best_poly.fit(data_poly, target)"
   ]
  },
  {
   "cell_type": "code",
   "execution_count": 112,
   "id": "1ab70629",
   "metadata": {},
   "outputs": [
    {
     "data": {
      "text/plain": [
       "KNeighborsRegressor(n_neighbors=15, p=1, weights='distance')"
      ]
     },
     "execution_count": 112,
     "metadata": {},
     "output_type": "execute_result"
    }
   ],
   "source": [
    "neighbors_best_poly.best_estimator_"
   ]
  },
  {
   "cell_type": "code",
   "execution_count": 115,
   "id": "e0b7af03",
   "metadata": {},
   "outputs": [
    {
     "data": {
      "text/plain": [
       "-7.670923029161531"
      ]
     },
     "execution_count": 115,
     "metadata": {},
     "output_type": "execute_result"
    }
   ],
   "source": [
    "neighbors_best_poly.best_score_"
   ]
  },
  {
   "cell_type": "code",
   "execution_count": 114,
   "id": "b14350f7",
   "metadata": {},
   "outputs": [
    {
     "data": {
      "text/plain": [
       "0.0"
      ]
     },
     "execution_count": 114,
     "metadata": {},
     "output_type": "execute_result"
    }
   ],
   "source": [
    "mean_squared_error(neighbors_best_poly.predict(Xp_train), yp_train)"
   ]
  },
  {
   "cell_type": "code",
   "execution_count": 116,
   "id": "f3d292de",
   "metadata": {},
   "outputs": [
    {
     "data": {
      "text/plain": [
       "0.0"
      ]
     },
     "execution_count": 116,
     "metadata": {},
     "output_type": "execute_result"
    }
   ],
   "source": [
    "mean_squared_error(neighbors_best_poly.predict(Xp_test), yp_test)"
   ]
  },
  {
   "cell_type": "code",
   "execution_count": 121,
   "id": "6c0fd5bb",
   "metadata": {},
   "outputs": [
    {
     "data": {
      "text/plain": [
       "30.614767304855953"
      ]
     },
     "execution_count": 121,
     "metadata": {},
     "output_type": "execute_result"
    }
   ],
   "source": [
    "neighbors_control_poly = KNeighborsRegressor(n_neighbors=15, p=1, weights='distance')\n",
    "neighbors_control_poly.fit(Xp_train, yp_train)\n",
    "mean_squared_error(neighbors_control_poly.predict(Xp_test), yp_test)"
   ]
  },
  {
   "cell_type": "code",
   "execution_count": 122,
   "id": "65652dee",
   "metadata": {},
   "outputs": [
    {
     "data": {
      "text/plain": [
       "0.0"
      ]
     },
     "execution_count": 122,
     "metadata": {},
     "output_type": "execute_result"
    }
   ],
   "source": [
    "mean_squared_error(neighbors_control_poly.predict(Xp_train), yp_train)"
   ]
  },
  {
   "cell_type": "markdown",
   "id": "8158b2bd",
   "metadata": {},
   "source": [
    "Lasso - единственная модель, которая почти не переобучилась. Без полиномиальных признаков она дает огромную MSE - 23 на тестовой выборке, но зато MSE тестовой и тренировочной выборки отличаются всего на единицу."
   ]
  },
  {
   "cell_type": "code",
   "execution_count": 78,
   "id": "e1acd0d1",
   "metadata": {},
   "outputs": [
    {
     "name": "stdout",
     "output_type": "stream",
     "text": [
      "Wall time: 2min 11s\n"
     ]
    },
    {
     "data": {
      "text/plain": [
       "GridSearchCV(cv=10, estimator=Lasso(),\n",
       "             param_grid={'alpha': [0.0009765625, 0.0011233476571973669,\n",
       "                                   0.0012921957979451526, 0.0014864231651962546,\n",
       "                                   0.001709844459752558, 0.001966847762467772,\n",
       "                                   0.0022624807178568238, 0.0026025496717912854,\n",
       "                                   0.0029937337103836327, 0.0034437158398282082,\n",
       "                                   0.003961333883621868, 0.004556754060844206,\n",
       "                                   0.005241670654642098, 0.006029535692485006...\n",
       "                                   0.01606877812483144, 0.01848404404280697,\n",
       "                                   0.021262343752724643, 0.024458244138135844,\n",
       "                                   0.0281345139217778, 0.03236335646762575,\n",
       "                                   0.037227827882957455, 0.042823468272503856,\n",
       "                                   0.049260178183150566, 0.05666437709329101, ...],\n",
       "                         'fit_intercept': (True, False),\n",
       "                         'normalize': (True, False), 'positive': (True, False),\n",
       "                         'selection': ('cyclic', 'random'),\n",
       "                         'warm_start': (True, False)},\n",
       "             scoring='neg_root_mean_squared_error')"
      ]
     },
     "execution_count": 78,
     "metadata": {},
     "output_type": "execute_result"
    }
   ],
   "source": [
    "%%time\n",
    "\n",
    "lasso_best = GridSearchCV(Lasso(), lasso_params, cv=10, scoring = 'neg_root_mean_squared_error')\n",
    "lasso_best.fit(data, target)"
   ]
  },
  {
   "cell_type": "code",
   "execution_count": 79,
   "id": "1c2c26f8",
   "metadata": {},
   "outputs": [
    {
     "data": {
      "text/plain": [
       "Lasso(alpha=0.042823468272503856, fit_intercept=False, normalize=True,\n",
       "      selection='random')"
      ]
     },
     "execution_count": 79,
     "metadata": {},
     "output_type": "execute_result"
    }
   ],
   "source": [
    "lasso_best.best_estimator_"
   ]
  },
  {
   "cell_type": "code",
   "execution_count": 80,
   "id": "95f1351e",
   "metadata": {},
   "outputs": [
    {
     "data": {
      "text/plain": [
       "-4.880332626127531"
      ]
     },
     "execution_count": 80,
     "metadata": {},
     "output_type": "execute_result"
    }
   ],
   "source": [
    "lasso_best.best_score_"
   ]
  },
  {
   "cell_type": "code",
   "execution_count": 81,
   "id": "c089ecba",
   "metadata": {},
   "outputs": [
    {
     "data": {
      "text/plain": [
       "24.73854013149876"
      ]
     },
     "execution_count": 81,
     "metadata": {},
     "output_type": "execute_result"
    }
   ],
   "source": [
    "mean_squared_error(lasso_best.predict(X_train), y_train)"
   ]
  },
  {
   "cell_type": "code",
   "execution_count": 82,
   "id": "870dc144",
   "metadata": {},
   "outputs": [
    {
     "data": {
      "text/plain": [
       "23.062051790165942"
      ]
     },
     "execution_count": 82,
     "metadata": {},
     "output_type": "execute_result"
    }
   ],
   "source": [
    "mean_squared_error(lasso_best.predict(X_test), y_test)"
   ]
  },
  {
   "cell_type": "code",
   "execution_count": 83,
   "id": "4cb7dd94",
   "metadata": {},
   "outputs": [
    {
     "data": {
      "text/plain": [
       "24.92132762358376"
      ]
     },
     "execution_count": 83,
     "metadata": {},
     "output_type": "execute_result"
    }
   ],
   "source": [
    "lasso_control = Lasso(alpha=0.042823468272503856, fit_intercept=False, normalize=True,\n",
    "      selection='random')\n",
    "lasso_control.fit(X_train, y_train)\n",
    "mean_squared_error(lasso_control.predict(X_test), y_test)"
   ]
  },
  {
   "cell_type": "code",
   "execution_count": 84,
   "id": "98ed293e",
   "metadata": {},
   "outputs": [
    {
     "data": {
      "text/plain": [
       "24.40358169732002"
      ]
     },
     "execution_count": 84,
     "metadata": {},
     "output_type": "execute_result"
    }
   ],
   "source": [
    "mean_squared_error(lasso_control.predict(X_train), y_train)"
   ]
  },
  {
   "cell_type": "markdown",
   "id": "5d5478be",
   "metadata": {},
   "source": [
    "Использование полиномиальных признаков позволило уменьшить MSE примерно с 24 до 10, причем переобучение минимально. Это лучший результат среди всех использованных алгоритмов."
   ]
  },
  {
   "cell_type": "code",
   "execution_count": 123,
   "id": "754e3969",
   "metadata": {},
   "outputs": [
    {
     "name": "stdout",
     "output_type": "stream",
     "text": [
      "Wall time: 7min 48s\n"
     ]
    },
    {
     "data": {
      "text/plain": [
       "GridSearchCV(cv=10, estimator=Lasso(),\n",
       "             param_grid={'alpha': [0.0009765625, 0.0011233476571973669,\n",
       "                                   0.0012921957979451526, 0.0014864231651962546,\n",
       "                                   0.001709844459752558, 0.001966847762467772,\n",
       "                                   0.0022624807178568238, 0.0026025496717912854,\n",
       "                                   0.0029937337103836327, 0.0034437158398282082,\n",
       "                                   0.003961333883621868, 0.004556754060844206,\n",
       "                                   0.005241670654642098, 0.006029535692485006...\n",
       "                                   0.01606877812483144, 0.01848404404280697,\n",
       "                                   0.021262343752724643, 0.024458244138135844,\n",
       "                                   0.0281345139217778, 0.03236335646762575,\n",
       "                                   0.037227827882957455, 0.042823468272503856,\n",
       "                                   0.049260178183150566, 0.05666437709329101, ...],\n",
       "                         'fit_intercept': (True, False),\n",
       "                         'normalize': (True, False), 'positive': (True, False),\n",
       "                         'selection': ('cyclic', 'random'),\n",
       "                         'warm_start': (True, False)},\n",
       "             scoring='neg_root_mean_squared_error')"
      ]
     },
     "execution_count": 123,
     "metadata": {},
     "output_type": "execute_result"
    }
   ],
   "source": [
    "%%time\n",
    "\n",
    "lasso_best_poly = GridSearchCV(Lasso(), lasso_params, cv=10, scoring = 'neg_root_mean_squared_error')\n",
    "lasso_best_poly.fit(data_poly, target)"
   ]
  },
  {
   "cell_type": "code",
   "execution_count": 124,
   "id": "14deeed7",
   "metadata": {},
   "outputs": [
    {
     "data": {
      "text/plain": [
       "Lasso(alpha=0.001966847762467772, normalize=True, warm_start=True)"
      ]
     },
     "execution_count": 124,
     "metadata": {},
     "output_type": "execute_result"
    }
   ],
   "source": [
    "lasso_best_poly.best_estimator_"
   ]
  },
  {
   "cell_type": "code",
   "execution_count": 125,
   "id": "ead9054a",
   "metadata": {},
   "outputs": [
    {
     "data": {
      "text/plain": [
       "-4.143924534813032"
      ]
     },
     "execution_count": 125,
     "metadata": {},
     "output_type": "execute_result"
    }
   ],
   "source": [
    "lasso_best_poly.best_score_"
   ]
  },
  {
   "cell_type": "code",
   "execution_count": 126,
   "id": "4867b9ae",
   "metadata": {},
   "outputs": [
    {
     "data": {
      "text/plain": [
       "11.336372105178969"
      ]
     },
     "execution_count": 126,
     "metadata": {},
     "output_type": "execute_result"
    }
   ],
   "source": [
    "mean_squared_error(lasso_best_poly.predict(Xp_train), yp_train)"
   ]
  },
  {
   "cell_type": "code",
   "execution_count": 127,
   "id": "a448f764",
   "metadata": {},
   "outputs": [
    {
     "data": {
      "text/plain": [
       "10.433489469253653"
      ]
     },
     "execution_count": 127,
     "metadata": {},
     "output_type": "execute_result"
    }
   ],
   "source": [
    "mean_squared_error(lasso_best_poly.predict(Xp_test), yp_test)"
   ]
  },
  {
   "cell_type": "code",
   "execution_count": 130,
   "id": "3a9712c4",
   "metadata": {},
   "outputs": [
    {
     "data": {
      "text/plain": [
       "12.381923662034767"
      ]
     },
     "execution_count": 130,
     "metadata": {},
     "output_type": "execute_result"
    }
   ],
   "source": [
    "lasso_control_poly = Lasso(alpha=0.001966847762467772, normalize=True, warm_start=True)\n",
    "lasso_control_poly.fit(Xp_train, yp_train)\n",
    "mean_squared_error(lasso_control_poly.predict(Xp_test), yp_test)"
   ]
  },
  {
   "cell_type": "code",
   "execution_count": 131,
   "id": "d0545db0",
   "metadata": {},
   "outputs": [
    {
     "data": {
      "text/plain": [
       "9.790090209486118"
      ]
     },
     "execution_count": 131,
     "metadata": {},
     "output_type": "execute_result"
    }
   ],
   "source": [
    "mean_squared_error(lasso_control_poly.predict(Xp_train), yp_train)"
   ]
  }
 ],
 "metadata": {
  "kernelspec": {
   "display_name": "Python 3 (ipykernel)",
   "language": "python",
   "name": "python3"
  },
  "language_info": {
   "codemirror_mode": {
    "name": "ipython",
    "version": 3
   },
   "file_extension": ".py",
   "mimetype": "text/x-python",
   "name": "python",
   "nbconvert_exporter": "python",
   "pygments_lexer": "ipython3",
   "version": "3.8.12"
  }
 },
 "nbformat": 4,
 "nbformat_minor": 5
}
