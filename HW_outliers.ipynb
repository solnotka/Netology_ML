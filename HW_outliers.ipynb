{
 "cells": [
  {
   "cell_type": "markdown",
   "id": "32569135",
   "metadata": {},
   "source": [
    "1. Теперь решаем задачу регрессии - предскажем цены на недвижимость. Использовать датасет www.kaggle.com...iques/data (train.csv)\n",
    "2. Данных немного, поэтому необходимо использовать 10-fold кросс-валидацию для оценки качества моделей\n",
    "3. Построить случайный лес, вывести важность признаков\n",
    "4. Обучить стекинг как минимум 3х моделей, использовать хотя бы 1 линейную модель и 1 нелинейную\n",
    "5. Для валидации модели 2-го уровня использовать отдельный hold-out датасет, как на занятии\n",
    "6. Показать, что использование ансамблей моделей действительно улучшает качество (стекинг vs другие модели сравнивать на hold-out)\n",
    "7. В качестве решения: Jupyter notebook с кодом, комментариями и графиками"
   ]
  },
  {
   "cell_type": "code",
   "execution_count": 123,
   "id": "52cb857b",
   "metadata": {},
   "outputs": [],
   "source": [
    "import numpy as np\n",
    "import pandas as pd\n",
    "\n",
    "from matplotlib import pyplot as plt\n",
    "from sklearn.ensemble import RandomForestRegressor\n",
    "from sklearn.ensemble import StackingRegressor\n",
    "from sklearn.linear_model import LassoCV\n",
    "from sklearn.linear_model import LinearRegression\n",
    "from sklearn.linear_model import RidgeCV\n",
    "from sklearn.model_selection import cross_val_score\n",
    "from sklearn.model_selection import train_test_split\n",
    "from sklearn.neighbors import KNeighborsRegressor\n",
    "from sklearn.svm import SVR\n",
    "from sklearn.tree import ExtraTreeRegressor"
   ]
  },
  {
   "cell_type": "code",
   "execution_count": 30,
   "id": "d3548d44",
   "metadata": {},
   "outputs": [],
   "source": [
    "data = pd.read_csv('train.csv')"
   ]
  },
  {
   "cell_type": "code",
   "execution_count": 31,
   "id": "c93a2363",
   "metadata": {},
   "outputs": [
    {
     "data": {
      "text/html": [
       "<div>\n",
       "<style scoped>\n",
       "    .dataframe tbody tr th:only-of-type {\n",
       "        vertical-align: middle;\n",
       "    }\n",
       "\n",
       "    .dataframe tbody tr th {\n",
       "        vertical-align: top;\n",
       "    }\n",
       "\n",
       "    .dataframe thead th {\n",
       "        text-align: right;\n",
       "    }\n",
       "</style>\n",
       "<table border=\"1\" class=\"dataframe\">\n",
       "  <thead>\n",
       "    <tr style=\"text-align: right;\">\n",
       "      <th></th>\n",
       "      <th>Id</th>\n",
       "      <th>MSSubClass</th>\n",
       "      <th>MSZoning</th>\n",
       "      <th>LotFrontage</th>\n",
       "      <th>LotArea</th>\n",
       "      <th>Street</th>\n",
       "      <th>Alley</th>\n",
       "      <th>LotShape</th>\n",
       "      <th>LandContour</th>\n",
       "      <th>Utilities</th>\n",
       "      <th>...</th>\n",
       "      <th>PoolArea</th>\n",
       "      <th>PoolQC</th>\n",
       "      <th>Fence</th>\n",
       "      <th>MiscFeature</th>\n",
       "      <th>MiscVal</th>\n",
       "      <th>MoSold</th>\n",
       "      <th>YrSold</th>\n",
       "      <th>SaleType</th>\n",
       "      <th>SaleCondition</th>\n",
       "      <th>SalePrice</th>\n",
       "    </tr>\n",
       "  </thead>\n",
       "  <tbody>\n",
       "    <tr>\n",
       "      <th>0</th>\n",
       "      <td>1</td>\n",
       "      <td>60</td>\n",
       "      <td>RL</td>\n",
       "      <td>65.0</td>\n",
       "      <td>8450</td>\n",
       "      <td>Pave</td>\n",
       "      <td>NaN</td>\n",
       "      <td>Reg</td>\n",
       "      <td>Lvl</td>\n",
       "      <td>AllPub</td>\n",
       "      <td>...</td>\n",
       "      <td>0</td>\n",
       "      <td>NaN</td>\n",
       "      <td>NaN</td>\n",
       "      <td>NaN</td>\n",
       "      <td>0</td>\n",
       "      <td>2</td>\n",
       "      <td>2008</td>\n",
       "      <td>WD</td>\n",
       "      <td>Normal</td>\n",
       "      <td>208500</td>\n",
       "    </tr>\n",
       "    <tr>\n",
       "      <th>1</th>\n",
       "      <td>2</td>\n",
       "      <td>20</td>\n",
       "      <td>RL</td>\n",
       "      <td>80.0</td>\n",
       "      <td>9600</td>\n",
       "      <td>Pave</td>\n",
       "      <td>NaN</td>\n",
       "      <td>Reg</td>\n",
       "      <td>Lvl</td>\n",
       "      <td>AllPub</td>\n",
       "      <td>...</td>\n",
       "      <td>0</td>\n",
       "      <td>NaN</td>\n",
       "      <td>NaN</td>\n",
       "      <td>NaN</td>\n",
       "      <td>0</td>\n",
       "      <td>5</td>\n",
       "      <td>2007</td>\n",
       "      <td>WD</td>\n",
       "      <td>Normal</td>\n",
       "      <td>181500</td>\n",
       "    </tr>\n",
       "    <tr>\n",
       "      <th>2</th>\n",
       "      <td>3</td>\n",
       "      <td>60</td>\n",
       "      <td>RL</td>\n",
       "      <td>68.0</td>\n",
       "      <td>11250</td>\n",
       "      <td>Pave</td>\n",
       "      <td>NaN</td>\n",
       "      <td>IR1</td>\n",
       "      <td>Lvl</td>\n",
       "      <td>AllPub</td>\n",
       "      <td>...</td>\n",
       "      <td>0</td>\n",
       "      <td>NaN</td>\n",
       "      <td>NaN</td>\n",
       "      <td>NaN</td>\n",
       "      <td>0</td>\n",
       "      <td>9</td>\n",
       "      <td>2008</td>\n",
       "      <td>WD</td>\n",
       "      <td>Normal</td>\n",
       "      <td>223500</td>\n",
       "    </tr>\n",
       "    <tr>\n",
       "      <th>3</th>\n",
       "      <td>4</td>\n",
       "      <td>70</td>\n",
       "      <td>RL</td>\n",
       "      <td>60.0</td>\n",
       "      <td>9550</td>\n",
       "      <td>Pave</td>\n",
       "      <td>NaN</td>\n",
       "      <td>IR1</td>\n",
       "      <td>Lvl</td>\n",
       "      <td>AllPub</td>\n",
       "      <td>...</td>\n",
       "      <td>0</td>\n",
       "      <td>NaN</td>\n",
       "      <td>NaN</td>\n",
       "      <td>NaN</td>\n",
       "      <td>0</td>\n",
       "      <td>2</td>\n",
       "      <td>2006</td>\n",
       "      <td>WD</td>\n",
       "      <td>Abnorml</td>\n",
       "      <td>140000</td>\n",
       "    </tr>\n",
       "    <tr>\n",
       "      <th>4</th>\n",
       "      <td>5</td>\n",
       "      <td>60</td>\n",
       "      <td>RL</td>\n",
       "      <td>84.0</td>\n",
       "      <td>14260</td>\n",
       "      <td>Pave</td>\n",
       "      <td>NaN</td>\n",
       "      <td>IR1</td>\n",
       "      <td>Lvl</td>\n",
       "      <td>AllPub</td>\n",
       "      <td>...</td>\n",
       "      <td>0</td>\n",
       "      <td>NaN</td>\n",
       "      <td>NaN</td>\n",
       "      <td>NaN</td>\n",
       "      <td>0</td>\n",
       "      <td>12</td>\n",
       "      <td>2008</td>\n",
       "      <td>WD</td>\n",
       "      <td>Normal</td>\n",
       "      <td>250000</td>\n",
       "    </tr>\n",
       "  </tbody>\n",
       "</table>\n",
       "<p>5 rows × 81 columns</p>\n",
       "</div>"
      ],
      "text/plain": [
       "   Id  MSSubClass MSZoning  LotFrontage  LotArea Street Alley LotShape  \\\n",
       "0   1          60       RL         65.0     8450   Pave   NaN      Reg   \n",
       "1   2          20       RL         80.0     9600   Pave   NaN      Reg   \n",
       "2   3          60       RL         68.0    11250   Pave   NaN      IR1   \n",
       "3   4          70       RL         60.0     9550   Pave   NaN      IR1   \n",
       "4   5          60       RL         84.0    14260   Pave   NaN      IR1   \n",
       "\n",
       "  LandContour Utilities  ... PoolArea PoolQC Fence MiscFeature MiscVal MoSold  \\\n",
       "0         Lvl    AllPub  ...        0    NaN   NaN         NaN       0      2   \n",
       "1         Lvl    AllPub  ...        0    NaN   NaN         NaN       0      5   \n",
       "2         Lvl    AllPub  ...        0    NaN   NaN         NaN       0      9   \n",
       "3         Lvl    AllPub  ...        0    NaN   NaN         NaN       0      2   \n",
       "4         Lvl    AllPub  ...        0    NaN   NaN         NaN       0     12   \n",
       "\n",
       "  YrSold  SaleType  SaleCondition  SalePrice  \n",
       "0   2008        WD         Normal     208500  \n",
       "1   2007        WD         Normal     181500  \n",
       "2   2008        WD         Normal     223500  \n",
       "3   2006        WD        Abnorml     140000  \n",
       "4   2008        WD         Normal     250000  \n",
       "\n",
       "[5 rows x 81 columns]"
      ]
     },
     "execution_count": 31,
     "metadata": {},
     "output_type": "execute_result"
    }
   ],
   "source": [
    "data.head()"
   ]
  },
  {
   "cell_type": "code",
   "execution_count": 32,
   "id": "535941a5",
   "metadata": {},
   "outputs": [],
   "source": [
    "#Не буду сильно анализировать данные, сделаю как в ноутбуке к лекции: уберу id и наделаю кучу бинарных признаков.\n",
    "categorials = list(data.dtypes[data.dtypes == object].index)\n",
    "\n",
    "categorials_nunique = data[categorials].nunique()\n",
    "\n",
    "data[categorials] = data[categorials].fillna('nan')"
   ]
  },
  {
   "cell_type": "code",
   "execution_count": 33,
   "id": "61ac5879",
   "metadata": {},
   "outputs": [],
   "source": [
    "integer = [f for f in data if f not in (categorials + ['Id', 'SalePrice'])]"
   ]
  },
  {
   "cell_type": "code",
   "execution_count": 34,
   "id": "7cd68ed7",
   "metadata": {},
   "outputs": [],
   "source": [
    "dummies = pd.get_dummies(data[categorials], columns=categorials)\n",
    "\n",
    "dummy_cols = list(set(dummies))\n",
    "\n",
    "data_plus = pd.concat([data[integer].fillna(-999), dummies], axis=1)\n",
    "X = data_plus\n",
    "y = data['SalePrice']"
   ]
  },
  {
   "cell_type": "code",
   "execution_count": 35,
   "id": "4d150103",
   "metadata": {},
   "outputs": [
    {
     "name": "stdout",
     "output_type": "stream",
     "text": [
      "<class 'pandas.core.frame.DataFrame'>\n",
      "RangeIndex: 1460 entries, 0 to 1459\n",
      "Columns: 304 entries, MSSubClass to SaleCondition_Partial\n",
      "dtypes: float64(3), int64(33), uint8(268)\n",
      "memory usage: 792.9 KB\n"
     ]
    }
   ],
   "source": [
    "data_plus.info()"
   ]
  },
  {
   "cell_type": "code",
   "execution_count": 39,
   "id": "d026ae1e",
   "metadata": {},
   "outputs": [],
   "source": [
    "X_train, X_test, y_train, y_test = train_test_split(X, y, test_size=0.3, random_state=42)"
   ]
  },
  {
   "cell_type": "code",
   "execution_count": 81,
   "id": "75b3f84f",
   "metadata": {},
   "outputs": [
    {
     "data": {
      "text/plain": [
       "0.9764557676024518"
      ]
     },
     "execution_count": 81,
     "metadata": {},
     "output_type": "execute_result"
    }
   ],
   "source": [
    "randomtrees = RandomForestRegressor()\n",
    "randomtrees.fit(X_train, y_train)\n",
    "randomtrees.score(X_train, y_train)"
   ]
  },
  {
   "cell_type": "code",
   "execution_count": 82,
   "id": "289363cf",
   "metadata": {},
   "outputs": [
    {
     "data": {
      "text/plain": [
       "0.900307719007201"
      ]
     },
     "execution_count": 82,
     "metadata": {},
     "output_type": "execute_result"
    }
   ],
   "source": [
    "randomtrees.score(X_test, y_test)"
   ]
  },
  {
   "cell_type": "code",
   "execution_count": 42,
   "id": "3894c651",
   "metadata": {},
   "outputs": [
    {
     "data": {
      "text/plain": [
       "0.8314764806960937"
      ]
     },
     "execution_count": 42,
     "metadata": {},
     "output_type": "execute_result"
    }
   ],
   "source": [
    "cross_val_score(randomtrees, X_train, y_train, cv=10).mean()"
   ]
  },
  {
   "cell_type": "code",
   "execution_count": 47,
   "id": "94924434",
   "metadata": {},
   "outputs": [
    {
     "data": {
      "text/plain": [
       "0.8416785759198726"
      ]
     },
     "execution_count": 47,
     "metadata": {},
     "output_type": "execute_result"
    }
   ],
   "source": [
    "cross_val_score(randomtrees, X_test, y_test, cv=10).mean()"
   ]
  },
  {
   "cell_type": "markdown",
   "id": "1bfda6c4",
   "metadata": {},
   "source": [
    "RandomForest стабильно показывает переобучение на стандартной метрике, но cross_val_score демонстрирует, что на самом деле переобучения нет: результаты на тестовой выборке улучшаются"
   ]
  },
  {
   "cell_type": "code",
   "execution_count": 83,
   "id": "fba5aec1",
   "metadata": {},
   "outputs": [
    {
     "data": {
      "text/plain": [
       "0.9761664631609979"
      ]
     },
     "execution_count": 83,
     "metadata": {},
     "output_type": "execute_result"
    }
   ],
   "source": [
    "#Заменила критерий оценки, это позволило немного улучшить результаты.\n",
    "#Изменение других параметров к заметным изменениям не привело\n",
    "randomtrees_abs = RandomForestRegressor(criterion = 'absolute_error')\n",
    "randomtrees_abs.fit(X_train, y_train)\n",
    "randomtrees_abs.score(X_train, y_train)"
   ]
  },
  {
   "cell_type": "code",
   "execution_count": 84,
   "id": "f8752411",
   "metadata": {},
   "outputs": [
    {
     "data": {
      "text/plain": [
       "0.8877165581917645"
      ]
     },
     "execution_count": 84,
     "metadata": {},
     "output_type": "execute_result"
    }
   ],
   "source": [
    "randomtrees_abs.score(X_test, y_test)"
   ]
  },
  {
   "cell_type": "code",
   "execution_count": 50,
   "id": "2958b3fb",
   "metadata": {},
   "outputs": [
    {
     "data": {
      "text/plain": [
       "0.8252887601725718"
      ]
     },
     "execution_count": 50,
     "metadata": {},
     "output_type": "execute_result"
    }
   ],
   "source": [
    "cross_val_score(randomtrees_abs, X_train, y_train, cv=10).mean()"
   ]
  },
  {
   "cell_type": "code",
   "execution_count": 51,
   "id": "1f4ce616",
   "metadata": {},
   "outputs": [
    {
     "data": {
      "text/plain": [
       "0.8529428710031967"
      ]
     },
     "execution_count": 51,
     "metadata": {},
     "output_type": "execute_result"
    }
   ],
   "source": [
    "cross_val_score(randomtrees_abs, X_test, y_test, cv=10).mean()"
   ]
  },
  {
   "cell_type": "code",
   "execution_count": 101,
   "id": "aca4d7b1",
   "metadata": {},
   "outputs": [],
   "source": [
    "col_value = sorted(list(zip(list(X_train), randomtrees_abs.feature_importances_)), key = lambda x: x[1], reverse=True)[:10]"
   ]
  },
  {
   "cell_type": "code",
   "execution_count": 102,
   "id": "6e601948",
   "metadata": {},
   "outputs": [
    {
     "data": {
      "image/png": "[encoded data removed]",
      "text/plain": [
       "<Figure size 1008x432 with 1 Axes>"
      ]
     },
     "metadata": {
      "needs_background": "light"
     },
     "output_type": "display_data"
    }
   ],
   "source": [
    "#В принципе результаты на графике похожи на то, что получилось в ноутбуке к лекции: есть самый важный признак,\n",
    "# есть сильно уступающий ему второй, все остальные гораздо менее значимы.\n",
    "plt.figure(figsize=(14, 6))\n",
    "plt.title('Top 10 feature importances')\n",
    "plt.xlabel('Features')\n",
    "plt.ylabel('Gini')\n",
    "plt.bar([x[0] for x in col_value], [x[1] for x in col_value])\n",
    "plt.show()"
   ]
  },
  {
   "cell_type": "code",
   "execution_count": 128,
   "id": "33e0b96d",
   "metadata": {},
   "outputs": [],
   "source": [
    "#В стек положила RandomForest, потому что было интересно, улучшится ли в этом случае cross_value_score. Спойлер: не улучшилась.\n",
    "Regressor = StackingRegressor(\n",
    "    [\n",
    "        ('Lasso', LassoCV(cv=10)),\n",
    "        ('KNeighborsRegressor', KNeighborsRegressor()),\n",
    "        ('RandomForestRegressor', RandomForestRegressor()),\n",
    "        ('LinearRegression', LinearRegression())\n",
    "    ], RidgeCV(cv=10))"
   ]
  },
  {
   "cell_type": "code",
   "execution_count": 125,
   "id": "570ac77c",
   "metadata": {},
   "outputs": [
    {
     "data": {
      "text/plain": [
       "StackingRegressor(estimators=[('Lasso', LassoCV(cv=10)),\n",
       "                              ('KNeighborsRegressor', KNeighborsRegressor()),\n",
       "                              ('RandomForestRegressor', RandomForestRegressor(),\n",
       "                               'LinearRegression', LinearRegression())],\n",
       "                  final_estimator=RidgeCV(alphas=array([ 0.1,  1. , 10. ]),\n",
       "                                          cv=10))"
      ]
     },
     "execution_count": 125,
     "metadata": {},
     "output_type": "execute_result"
    }
   ],
   "source": [
    "Regressor.fit(X_train, y_train)"
   ]
  },
  {
   "cell_type": "code",
   "execution_count": 133,
   "id": "e29dc601",
   "metadata": {},
   "outputs": [],
   "source": [
    "score_train = {}\n",
    "score_test = {}\n",
    "\n",
    "for i in Regressor.named_estimators:\n",
    "    score_train[i] = cross_val_score(Regressor.named_estimators[i], X_train, y_train, cv=10).mean()\n",
    "    score_test[i] = cross_val_score(Regressor.named_estimators[i], X_test, y_test, cv=10).mean()\n",
    "\n",
    "score_train['Total'] = cross_val_score(Regressor, X_train, y_train, cv=10).mean()\n",
    "score_test['Total'] = cross_val_score(Regressor, X_test, y_test, cv=10).mean()"
   ]
  },
  {
   "cell_type": "code",
   "execution_count": 135,
   "id": "365f29e5",
   "metadata": {},
   "outputs": [
    {
     "name": "stdout",
     "output_type": "stream",
     "text": [
      "Score on train data 0.8394166570432413\n",
      "Score on test data 0.849053730225846\n",
      "Score on train data with model Lasso 0.6654939497243063\n",
      "Score on test data with model Lasso 0.764304955418318\n",
      "Score on train data with model KNeighborsRegressor 0.6362213845613461\n",
      "Score on test data with model KNeighborsRegressor 0.594663796557721\n",
      "Score on train data with model RandomForestRegressor 0.8217104606176525\n",
      "Score on test data with model RandomForestRegressor 0.8428642319269724\n",
      "Score on train data with model LinearRegression 0.5861635442410076\n",
      "Score on test data with model LinearRegression 0.5019269296403241\n"
     ]
    }
   ],
   "source": [
    "print(f\"Score on train data {score_train['Total']}\")\n",
    "print(f\"Score on test data {score_test['Total']}\")\n",
    "\n",
    "for i in Regressor.named_estimators:\n",
    "    print(f\"Score on train data with model {i} {score_train[i]}\")\n",
    "    print(f\"Score on test data with model {i} {score_test[i]}\")"
   ]
  },
  {
   "cell_type": "markdown",
   "id": "07a006fa",
   "metadata": {},
   "source": [
    "Стек только на сотые доли смог улучшить результат RandomForest. Линейная регрессия не прошла проверку cross_val_score и показала результаты близки к случайным. Соседи переобучились. Лассо показала неплохой результат на тестовой выборке."
   ]
  },
  {
   "cell_type": "code",
   "execution_count": 138,
   "id": "14844222",
   "metadata": {},
   "outputs": [
    {
     "data": {
      "text/plain": [
       "<matplotlib.legend.Legend at 0x194d2c893d0>"
      ]
     },
     "execution_count": 138,
     "metadata": {},
     "output_type": "execute_result"
    },
    {
     "data": {
      "image/png": "[encoded data removed]",
      "text/plain": [
       "<Figure size 720x360 with 1 Axes>"
      ]
     },
     "metadata": {
      "needs_background": "light"
     },
     "output_type": "display_data"
    }
   ],
   "source": [
    "plt.figure(figsize=(10,5))\n",
    "plt.bar(range(len(score_train)), score_train.values(), align=\"center\", label='Train')\n",
    "plt.xticks(range(len(score_train)), list(score_train.keys()))\n",
    "plt.bar(range(len(score_test)), score_test.values(), align=\"center\", label='Test')\n",
    "plt.xticks(range(len(score_test)), list(score_test.keys()),rotation=20)\n",
    "plt.autoscale\n",
    "plt.title('Stacking result')\n",
    "plt.legend()"
   ]
  },
  {
   "cell_type": "code",
   "execution_count": null,
   "id": "d3f4c3cf",
   "metadata": {},
   "outputs": [],
   "source": []
  }
 ],
 "metadata": {
  "kernelspec": {
   "display_name": "Python 3 (ipykernel)",
   "language": "python",
   "name": "python3"
  },
  "language_info": {
   "codemirror_mode": {
    "name": "ipython",
    "version": 3
   },
   "file_extension": ".py",
   "mimetype": "text/x-python",
   "name": "python",
   "nbconvert_exporter": "python",
   "pygments_lexer": "ipython3",
   "version": "3.8.12"
  }
 },
 "nbformat": 4,
 "nbformat_minor": 5
}
